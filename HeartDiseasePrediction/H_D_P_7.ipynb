{
 "cells": [
  {
   "cell_type": "markdown",
   "id": "b413f968",
   "metadata": {},
   "source": [
    "# <h2 align=\"center\">بررسی تاثیر انواع الگوریتم های انتخاب ویژگی در تکنیک های یادگیری ماشین به منظور افزایش دقت در پیش بینی و تشخیص بیماری های قلبی <h2/>\n",
    "    \n",
    "<center>\n",
    "    <img src=\".\\images\\nitpic.png\" width=\"200\" alt=\"NIT logo\"  />\n",
    "</center>"
   ]
  },
  {
   "cell_type": "markdown",
   "id": "42e97601",
   "metadata": {},
   "source": [
    "# :استاد راهنما\n",
    "دکتر فاطمه زمانی\n",
    "\n",
    "# :دانشجو\n",
    "امیررضا زارع"
   ]
  },
  {
   "cell_type": "markdown",
   "id": "183d257a",
   "metadata": {},
   "source": [
    "# Importing Needed packages"
   ]
  },
  {
   "cell_type": "code",
   "execution_count": 164,
   "id": "63c9c578",
   "metadata": {},
   "outputs": [],
   "source": [
    "import numpy as np\n",
    "import pandas as pd\n",
    "import matplotlib.pyplot as plt\n",
    "import seaborn as sns\n",
    "import pylab as pl\n",
    "import scipy.optimize as opt\n",
    "from sklearn import preprocessing\n",
    "import os\n",
    "import sys\n",
    "module_path = os.path.abspath(os.path.join('..'))\n",
    "if module_path not in sys.path:\n",
    "    sys.path.append(module_path+\"\\\\SoftwareProject\")\n",
    "from cross_valdiation_score import k_fold_results\n",
    "from sklearn.model_selection import train_test_split\n",
    "from sklearn.linear_model import LogisticRegression\n",
    "from sklearn.naive_bayes import GaussianNB\n",
    "from sklearn.neighbors import KNeighborsClassifier\n",
    "import xgboost as xgb\n",
    "from mlxtend.feature_selection import SequentialFeatureSelector as SFS\n",
    "from sklearn import svm\n",
    "from keras.models import Sequential\n",
    "from keras.layers import Dense\n",
    "from sklearn.ensemble import RandomForestClassifier\n",
    "from sklearn.tree import DecisionTreeClassifier\n",
    "import warnings\n",
    "from sklearn.feature_selection import VarianceThreshold\n",
    "from sklearn.linear_model import Ridge\n",
    "from sklearn.metrics import r2_score\n",
    "from sklearn.neural_network import MLPClassifier\n",
    "from sklearn.linear_model import SGDClassifier\n",
    "from sklearn.kernel_approximation import RBFSampler\n",
    "from sklearn.ensemble import AdaBoostClassifier\n",
    "from sklearn.datasets import make_classification\n",
    "from sklearn.ensemble import GradientBoostingClassifier\n",
    "from lightgbm import LGBMClassifier\n",
    "from catboost import CatBoostClassifier\n",
    "from pyspark.ml.classification import MultilayerPerceptronClassifier\n",
    "from pyspark.ml.evaluation import MulticlassClassificationEvaluator\n",
    "from tensorflow.keras.models import Sequential\n",
    "from tensorflow.keras.layers import Dense\n",
    "from sklearn.naive_bayes import MultinomialNB\n",
    "warnings.filterwarnings('ignore')\n",
    "%matplotlib inline"
   ]
  },
  {
   "cell_type": "markdown",
   "id": "5c9d0672",
   "metadata": {},
   "source": [
    "# Reading the data From csv"
   ]
  },
  {
   "cell_type": "code",
   "execution_count": 2,
   "id": "84071ee4",
   "metadata": {},
   "outputs": [
    {
     "data": {
      "text/html": [
       "<div>\n",
       "<style scoped>\n",
       "    .dataframe tbody tr th:only-of-type {\n",
       "        vertical-align: middle;\n",
       "    }\n",
       "\n",
       "    .dataframe tbody tr th {\n",
       "        vertical-align: top;\n",
       "    }\n",
       "\n",
       "    .dataframe thead th {\n",
       "        text-align: right;\n",
       "    }\n",
       "</style>\n",
       "<table border=\"1\" class=\"dataframe\">\n",
       "  <thead>\n",
       "    <tr style=\"text-align: right;\">\n",
       "      <th></th>\n",
       "      <th>age</th>\n",
       "      <th>gender</th>\n",
       "      <th>cp</th>\n",
       "      <th>trestbps</th>\n",
       "      <th>chol</th>\n",
       "      <th>fbs</th>\n",
       "      <th>restecg</th>\n",
       "      <th>thalach</th>\n",
       "      <th>exang</th>\n",
       "      <th>oldpeak</th>\n",
       "      <th>slope</th>\n",
       "      <th>ca</th>\n",
       "      <th>thal</th>\n",
       "      <th>target</th>\n",
       "    </tr>\n",
       "  </thead>\n",
       "  <tbody>\n",
       "    <tr>\n",
       "      <th>0</th>\n",
       "      <td>67</td>\n",
       "      <td>1</td>\n",
       "      <td>4</td>\n",
       "      <td>160</td>\n",
       "      <td>286</td>\n",
       "      <td>0</td>\n",
       "      <td>2</td>\n",
       "      <td>108</td>\n",
       "      <td>1</td>\n",
       "      <td>1.5</td>\n",
       "      <td>2</td>\n",
       "      <td>3</td>\n",
       "      <td>3</td>\n",
       "      <td>1</td>\n",
       "    </tr>\n",
       "    <tr>\n",
       "      <th>1</th>\n",
       "      <td>67</td>\n",
       "      <td>1</td>\n",
       "      <td>4</td>\n",
       "      <td>120</td>\n",
       "      <td>229</td>\n",
       "      <td>0</td>\n",
       "      <td>2</td>\n",
       "      <td>129</td>\n",
       "      <td>1</td>\n",
       "      <td>2.6</td>\n",
       "      <td>2</td>\n",
       "      <td>2</td>\n",
       "      <td>7</td>\n",
       "      <td>1</td>\n",
       "    </tr>\n",
       "    <tr>\n",
       "      <th>2</th>\n",
       "      <td>37</td>\n",
       "      <td>1</td>\n",
       "      <td>3</td>\n",
       "      <td>130</td>\n",
       "      <td>250</td>\n",
       "      <td>0</td>\n",
       "      <td>0</td>\n",
       "      <td>187</td>\n",
       "      <td>0</td>\n",
       "      <td>3.5</td>\n",
       "      <td>3</td>\n",
       "      <td>0</td>\n",
       "      <td>3</td>\n",
       "      <td>0</td>\n",
       "    </tr>\n",
       "    <tr>\n",
       "      <th>3</th>\n",
       "      <td>41</td>\n",
       "      <td>0</td>\n",
       "      <td>2</td>\n",
       "      <td>130</td>\n",
       "      <td>204</td>\n",
       "      <td>0</td>\n",
       "      <td>2</td>\n",
       "      <td>172</td>\n",
       "      <td>0</td>\n",
       "      <td>1.4</td>\n",
       "      <td>1</td>\n",
       "      <td>0</td>\n",
       "      <td>3</td>\n",
       "      <td>0</td>\n",
       "    </tr>\n",
       "    <tr>\n",
       "      <th>4</th>\n",
       "      <td>56</td>\n",
       "      <td>1</td>\n",
       "      <td>2</td>\n",
       "      <td>120</td>\n",
       "      <td>236</td>\n",
       "      <td>0</td>\n",
       "      <td>0</td>\n",
       "      <td>178</td>\n",
       "      <td>0</td>\n",
       "      <td>0.8</td>\n",
       "      <td>1</td>\n",
       "      <td>0</td>\n",
       "      <td>3</td>\n",
       "      <td>0</td>\n",
       "    </tr>\n",
       "  </tbody>\n",
       "</table>\n",
       "</div>"
      ],
      "text/plain": [
       "   age  gender  cp  trestbps  chol  fbs  restecg  thalach  exang  oldpeak  \\\n",
       "0   67       1   4       160   286    0        2      108      1      1.5   \n",
       "1   67       1   4       120   229    0        2      129      1      2.6   \n",
       "2   37       1   3       130   250    0        0      187      0      3.5   \n",
       "3   41       0   2       130   204    0        2      172      0      1.4   \n",
       "4   56       1   2       120   236    0        0      178      0      0.8   \n",
       "\n",
       "   slope  ca  thal  target  \n",
       "0      2   3     3       1  \n",
       "1      2   2     7       1  \n",
       "2      3   0     3       0  \n",
       "3      1   0     3       0  \n",
       "4      1   0     3       0  "
      ]
     },
     "execution_count": 2,
     "metadata": {},
     "output_type": "execute_result"
    }
   ],
   "source": [
    "df = pd.read_csv(\"dataset\\hdp.csv\")\n",
    "\n",
    "# take a look at the dataset\n",
    "df.head()"
   ]
  },
  {
   "cell_type": "code",
   "execution_count": 3,
   "id": "35b1a905",
   "metadata": {},
   "outputs": [
    {
     "data": {
      "text/plain": [
       "Index(['age', 'gender', 'cp', 'trestbps', 'chol', 'fbs', 'restecg', 'thalach',\n",
       "       'exang', 'oldpeak', 'slope', 'ca', 'thal'],\n",
       "      dtype='object')"
      ]
     },
     "execution_count": 3,
     "metadata": {},
     "output_type": "execute_result"
    }
   ],
   "source": [
    "df_col = df.columns.drop('target')\n",
    "df_col"
   ]
  },
  {
   "cell_type": "markdown",
   "id": "e68e747c",
   "metadata": {},
   "source": [
    "# Description of Dataset columns"
   ]
  },
  {
   "cell_type": "code",
   "execution_count": 4,
   "id": "193f4799",
   "metadata": {},
   "outputs": [
    {
     "name": "stdout",
     "output_type": "stream",
     "text": [
      "age:\t\tage\n",
      "gender:\t\t1: male, 0: female\n",
      "cp:\t\tchest pain type, 1: typical angina, 2: atypical angina, 3: non-anginal pain, 4: asymptomatic\n",
      "trestbps:\t\tresting blood pressure\n",
      "chol:\t\t serum cholestoral in mg/dl\n",
      "fbs:\t\tfasting blood sugar > 120 mg/dl\n",
      "restecg:\t\tresting electrocardiographic results (values 0,1,2)\n",
      "thalach:\t\t maximum heart rate achieved\n",
      "exang:\t\texercise induced angina\n",
      "oldpeak:\t\toldpeak = ST depression induced by exercise relative to rest\n",
      "slope:\t\tthe slope of the peak exercise ST segment\n",
      "ca:\t\tnumber of major vessels (0-3) colored by flourosopy\n",
      "thal:\t\tthal: 3 = normal; 6 = fixed defect; 7 = reversable defect\n",
      "target:\t\tfinal result\n"
     ]
    }
   ],
   "source": [
    "info = [\"age\",\"1: male, 0: female\",\"chest pain type, 1: typical angina, 2: atypical angina, 3: non-anginal pain, 4: asymptomatic\",\n",
    "        \"resting blood pressure\",\" serum cholestoral in mg/dl\",\"fasting blood sugar > 120 mg/dl\",\n",
    "        \"resting electrocardiographic results (values 0,1,2)\",\" maximum heart rate achieved\",\"exercise induced angina\",\n",
    "        \"oldpeak = ST depression induced by exercise relative to rest\",\"the slope of the peak exercise ST segment\",\n",
    "        \"number of major vessels (0-3) colored by flourosopy\",\"thal: 3 = normal; 6 = fixed defect; 7 = reversable defect\",\n",
    "        \"final result\"]\n",
    "\n",
    "for i in range(len(info)):\n",
    "    print(df.columns[i]+\":\\t\\t\"+info[i])"
   ]
  },
  {
   "cell_type": "code",
   "execution_count": 5,
   "id": "adc465a7",
   "metadata": {},
   "outputs": [
    {
     "data": {
      "text/html": [
       "<div>\n",
       "<style scoped>\n",
       "    .dataframe tbody tr th:only-of-type {\n",
       "        vertical-align: middle;\n",
       "    }\n",
       "\n",
       "    .dataframe tbody tr th {\n",
       "        vertical-align: top;\n",
       "    }\n",
       "\n",
       "    .dataframe thead th {\n",
       "        text-align: right;\n",
       "    }\n",
       "</style>\n",
       "<table border=\"1\" class=\"dataframe\">\n",
       "  <thead>\n",
       "    <tr style=\"text-align: right;\">\n",
       "      <th></th>\n",
       "      <th>age</th>\n",
       "      <th>gender</th>\n",
       "      <th>cp</th>\n",
       "      <th>trestbps</th>\n",
       "      <th>chol</th>\n",
       "      <th>fbs</th>\n",
       "      <th>restecg</th>\n",
       "      <th>thalach</th>\n",
       "      <th>exang</th>\n",
       "      <th>oldpeak</th>\n",
       "      <th>slope</th>\n",
       "      <th>ca</th>\n",
       "      <th>thal</th>\n",
       "      <th>target</th>\n",
       "    </tr>\n",
       "  </thead>\n",
       "  <tbody>\n",
       "    <tr>\n",
       "      <th>count</th>\n",
       "      <td>302.000000</td>\n",
       "      <td>302.000000</td>\n",
       "      <td>302.000000</td>\n",
       "      <td>302.000000</td>\n",
       "      <td>302.000000</td>\n",
       "      <td>302.000000</td>\n",
       "      <td>302.000000</td>\n",
       "      <td>302.000000</td>\n",
       "      <td>302.000000</td>\n",
       "      <td>302.000000</td>\n",
       "      <td>302.000000</td>\n",
       "      <td>302.000000</td>\n",
       "      <td>302.000000</td>\n",
       "      <td>302.000000</td>\n",
       "    </tr>\n",
       "    <tr>\n",
       "      <th>mean</th>\n",
       "      <td>54.307947</td>\n",
       "      <td>0.682119</td>\n",
       "      <td>3.149007</td>\n",
       "      <td>131.728477</td>\n",
       "      <td>246.390728</td>\n",
       "      <td>0.142384</td>\n",
       "      <td>0.993377</td>\n",
       "      <td>149.609272</td>\n",
       "      <td>0.324503</td>\n",
       "      <td>1.033113</td>\n",
       "      <td>1.589404</td>\n",
       "      <td>0.668874</td>\n",
       "      <td>4.705298</td>\n",
       "      <td>0.453642</td>\n",
       "    </tr>\n",
       "    <tr>\n",
       "      <th>std</th>\n",
       "      <td>9.053984</td>\n",
       "      <td>0.466426</td>\n",
       "      <td>0.958083</td>\n",
       "      <td>17.609245</td>\n",
       "      <td>51.628879</td>\n",
       "      <td>0.350024</td>\n",
       "      <td>0.994982</td>\n",
       "      <td>22.881167</td>\n",
       "      <td>0.468966</td>\n",
       "      <td>1.162236</td>\n",
       "      <td>0.612945</td>\n",
       "      <td>0.934548</td>\n",
       "      <td>1.938225</td>\n",
       "      <td>0.498673</td>\n",
       "    </tr>\n",
       "    <tr>\n",
       "      <th>min</th>\n",
       "      <td>29.000000</td>\n",
       "      <td>0.000000</td>\n",
       "      <td>1.000000</td>\n",
       "      <td>94.000000</td>\n",
       "      <td>126.000000</td>\n",
       "      <td>0.000000</td>\n",
       "      <td>0.000000</td>\n",
       "      <td>71.000000</td>\n",
       "      <td>0.000000</td>\n",
       "      <td>0.000000</td>\n",
       "      <td>1.000000</td>\n",
       "      <td>0.000000</td>\n",
       "      <td>3.000000</td>\n",
       "      <td>0.000000</td>\n",
       "    </tr>\n",
       "    <tr>\n",
       "      <th>25%</th>\n",
       "      <td>47.000000</td>\n",
       "      <td>0.000000</td>\n",
       "      <td>3.000000</td>\n",
       "      <td>120.000000</td>\n",
       "      <td>211.250000</td>\n",
       "      <td>0.000000</td>\n",
       "      <td>0.000000</td>\n",
       "      <td>133.250000</td>\n",
       "      <td>0.000000</td>\n",
       "      <td>0.000000</td>\n",
       "      <td>1.000000</td>\n",
       "      <td>0.000000</td>\n",
       "      <td>3.000000</td>\n",
       "      <td>0.000000</td>\n",
       "    </tr>\n",
       "    <tr>\n",
       "      <th>50%</th>\n",
       "      <td>55.000000</td>\n",
       "      <td>1.000000</td>\n",
       "      <td>3.000000</td>\n",
       "      <td>130.000000</td>\n",
       "      <td>240.500000</td>\n",
       "      <td>0.000000</td>\n",
       "      <td>1.000000</td>\n",
       "      <td>153.000000</td>\n",
       "      <td>0.000000</td>\n",
       "      <td>0.750000</td>\n",
       "      <td>2.000000</td>\n",
       "      <td>0.000000</td>\n",
       "      <td>3.000000</td>\n",
       "      <td>0.000000</td>\n",
       "    </tr>\n",
       "    <tr>\n",
       "      <th>75%</th>\n",
       "      <td>61.000000</td>\n",
       "      <td>1.000000</td>\n",
       "      <td>4.000000</td>\n",
       "      <td>140.000000</td>\n",
       "      <td>274.000000</td>\n",
       "      <td>0.000000</td>\n",
       "      <td>2.000000</td>\n",
       "      <td>166.000000</td>\n",
       "      <td>1.000000</td>\n",
       "      <td>1.600000</td>\n",
       "      <td>2.000000</td>\n",
       "      <td>1.000000</td>\n",
       "      <td>7.000000</td>\n",
       "      <td>1.000000</td>\n",
       "    </tr>\n",
       "    <tr>\n",
       "      <th>max</th>\n",
       "      <td>77.000000</td>\n",
       "      <td>1.000000</td>\n",
       "      <td>4.000000</td>\n",
       "      <td>200.000000</td>\n",
       "      <td>564.000000</td>\n",
       "      <td>1.000000</td>\n",
       "      <td>2.000000</td>\n",
       "      <td>202.000000</td>\n",
       "      <td>1.000000</td>\n",
       "      <td>6.200000</td>\n",
       "      <td>3.000000</td>\n",
       "      <td>3.000000</td>\n",
       "      <td>7.000000</td>\n",
       "      <td>1.000000</td>\n",
       "    </tr>\n",
       "  </tbody>\n",
       "</table>\n",
       "</div>"
      ],
      "text/plain": [
       "              age      gender          cp    trestbps        chol         fbs  \\\n",
       "count  302.000000  302.000000  302.000000  302.000000  302.000000  302.000000   \n",
       "mean    54.307947    0.682119    3.149007  131.728477  246.390728    0.142384   \n",
       "std      9.053984    0.466426    0.958083   17.609245   51.628879    0.350024   \n",
       "min     29.000000    0.000000    1.000000   94.000000  126.000000    0.000000   \n",
       "25%     47.000000    0.000000    3.000000  120.000000  211.250000    0.000000   \n",
       "50%     55.000000    1.000000    3.000000  130.000000  240.500000    0.000000   \n",
       "75%     61.000000    1.000000    4.000000  140.000000  274.000000    0.000000   \n",
       "max     77.000000    1.000000    4.000000  200.000000  564.000000    1.000000   \n",
       "\n",
       "          restecg     thalach       exang     oldpeak       slope          ca  \\\n",
       "count  302.000000  302.000000  302.000000  302.000000  302.000000  302.000000   \n",
       "mean     0.993377  149.609272    0.324503    1.033113    1.589404    0.668874   \n",
       "std      0.994982   22.881167    0.468966    1.162236    0.612945    0.934548   \n",
       "min      0.000000   71.000000    0.000000    0.000000    1.000000    0.000000   \n",
       "25%      0.000000  133.250000    0.000000    0.000000    1.000000    0.000000   \n",
       "50%      1.000000  153.000000    0.000000    0.750000    2.000000    0.000000   \n",
       "75%      2.000000  166.000000    1.000000    1.600000    2.000000    1.000000   \n",
       "max      2.000000  202.000000    1.000000    6.200000    3.000000    3.000000   \n",
       "\n",
       "             thal      target  \n",
       "count  302.000000  302.000000  \n",
       "mean     4.705298    0.453642  \n",
       "std      1.938225    0.498673  \n",
       "min      3.000000    0.000000  \n",
       "25%      3.000000    0.000000  \n",
       "50%      3.000000    0.000000  \n",
       "75%      7.000000    1.000000  \n",
       "max      7.000000    1.000000  "
      ]
     },
     "execution_count": 5,
     "metadata": {},
     "output_type": "execute_result"
    }
   ],
   "source": [
    "df.describe()"
   ]
  },
  {
   "cell_type": "code",
   "execution_count": 6,
   "id": "b5ededb3",
   "metadata": {},
   "outputs": [
    {
     "data": {
      "text/plain": [
       "(302, 14)"
      ]
     },
     "execution_count": 6,
     "metadata": {},
     "output_type": "execute_result"
    }
   ],
   "source": [
    "df.shape"
   ]
  },
  {
   "cell_type": "code",
   "execution_count": 7,
   "id": "3fc15339",
   "metadata": {},
   "outputs": [
    {
     "data": {
      "text/plain": [
       "Index(['age', 'gender', 'cp', 'trestbps', 'chol', 'fbs', 'restecg', 'thalach',\n",
       "       'exang', 'oldpeak', 'slope', 'ca', 'thal', 'target'],\n",
       "      dtype='object')"
      ]
     },
     "execution_count": 7,
     "metadata": {},
     "output_type": "execute_result"
    }
   ],
   "source": [
    "df_columns = df.columns\n",
    "df_columns"
   ]
  },
  {
   "cell_type": "code",
   "execution_count": 8,
   "id": "ea21672c",
   "metadata": {},
   "outputs": [
    {
     "name": "stdout",
     "output_type": "stream",
     "text": [
      "<class 'pandas.core.frame.DataFrame'>\n",
      "RangeIndex: 302 entries, 0 to 301\n",
      "Data columns (total 14 columns):\n",
      " #   Column    Non-Null Count  Dtype  \n",
      "---  ------    --------------  -----  \n",
      " 0   age       302 non-null    int64  \n",
      " 1   gender    302 non-null    int64  \n",
      " 2   cp        302 non-null    int64  \n",
      " 3   trestbps  302 non-null    int64  \n",
      " 4   chol      302 non-null    int64  \n",
      " 5   fbs       302 non-null    int64  \n",
      " 6   restecg   302 non-null    int64  \n",
      " 7   thalach   302 non-null    int64  \n",
      " 8   exang     302 non-null    int64  \n",
      " 9   oldpeak   302 non-null    float64\n",
      " 10  slope     302 non-null    int64  \n",
      " 11  ca        302 non-null    int64  \n",
      " 12  thal      302 non-null    int64  \n",
      " 13  target    302 non-null    int64  \n",
      "dtypes: float64(1), int64(13)\n",
      "memory usage: 33.2 KB\n"
     ]
    }
   ],
   "source": [
    "df.info()"
   ]
  },
  {
   "cell_type": "markdown",
   "id": "a703fdc2",
   "metadata": {},
   "source": [
    "# Analyze the features on the chart"
   ]
  },
  {
   "cell_type": "markdown",
   "id": "3ef03a50",
   "metadata": {},
   "source": [
    "### First, analysing the 'target' feature:"
   ]
  },
  {
   "cell_type": "code",
   "execution_count": 9,
   "id": "1602e19a",
   "metadata": {},
   "outputs": [
    {
     "name": "stdout",
     "output_type": "stream",
     "text": [
      "0    165\n",
      "1    137\n",
      "Name: target, dtype: int64\n"
     ]
    },
    {
     "data": {
      "image/png": "[encoded data removed]",
      "text/plain": [
       "<Figure size 432x288 with 1 Axes>"
      ]
     },
     "metadata": {
      "needs_background": "light"
     },
     "output_type": "display_data"
    }
   ],
   "source": [
    "target_diagram = df[\"target\"]\n",
    "target_temp = df.target.value_counts()\n",
    "print(target_temp)\n",
    "target_diagram.hist()\n",
    "plt.show()"
   ]
  },
  {
   "cell_type": "markdown",
   "id": "7c6d5e5a",
   "metadata": {},
   "source": [
    "### Analysing the 'age' feature:"
   ]
  },
  {
   "cell_type": "code",
   "execution_count": 10,
   "id": "b0c3f57c",
   "metadata": {},
   "outputs": [
    {
     "data": {
      "text/plain": [
       "array([67, 37, 41, 56, 62, 57, 63, 53, 44, 52, 48, 54, 49, 64, 58, 60, 50,\n",
       "       66, 43, 40, 69, 59, 42, 55, 61, 65, 71, 51, 46, 45, 39, 68, 47, 34,\n",
       "       35, 29, 70, 77, 38, 74, 76], dtype=int64)"
      ]
     },
     "execution_count": 10,
     "metadata": {},
     "output_type": "execute_result"
    }
   ],
   "source": [
    "df[\"age\"].unique()"
   ]
  },
  {
   "cell_type": "code",
   "execution_count": 11,
   "id": "2c6e852a",
   "metadata": {},
   "outputs": [
    {
     "name": "stdout",
     "output_type": "stream",
     "text": [
      "58    19\n",
      "57    17\n",
      "54    16\n",
      "59    14\n",
      "51    13\n",
      "60    12\n",
      "52    12\n",
      "44    11\n",
      "62    11\n",
      "56    11\n",
      "41    10\n",
      "64    10\n",
      "42     9\n",
      "67     9\n",
      "43     8\n",
      "55     8\n",
      "45     8\n",
      "61     8\n",
      "63     8\n",
      "65     8\n",
      "53     7\n",
      "50     7\n",
      "48     7\n",
      "46     7\n",
      "66     6\n",
      "47     6\n",
      "49     5\n",
      "39     4\n",
      "70     4\n",
      "68     4\n",
      "35     4\n",
      "69     3\n",
      "71     3\n",
      "40     3\n",
      "37     2\n",
      "38     2\n",
      "34     2\n",
      "76     1\n",
      "29     1\n",
      "74     1\n",
      "77     1\n",
      "Name: age, dtype: int64\n"
     ]
    },
    {
     "data": {
      "image/png": "[encoded data removed]",
      "text/plain": [
       "<Figure size 432x288 with 1 Axes>"
      ]
     },
     "metadata": {
      "needs_background": "light"
     },
     "output_type": "display_data"
    }
   ],
   "source": [
    "age_temp = df.age.value_counts()\n",
    "print(age_temp)\n",
    "plt.scatter(df.target, df.age, color='blue')\n",
    "plt.xlabel(\"target\")\n",
    "plt.ylabel(\"age\")\n",
    "plt.show()"
   ]
  },
  {
   "cell_type": "markdown",
   "id": "8f037f43",
   "metadata": {},
   "source": [
    "### Analysing the 'gender' feature:"
   ]
  },
  {
   "cell_type": "code",
   "execution_count": 12,
   "id": "caf08737",
   "metadata": {},
   "outputs": [
    {
     "data": {
      "text/plain": [
       "array([1, 0], dtype=int64)"
      ]
     },
     "execution_count": 12,
     "metadata": {},
     "output_type": "execute_result"
    }
   ],
   "source": [
    "df[\"gender\"].unique()"
   ]
  },
  {
   "cell_type": "markdown",
   "id": "5ec82616",
   "metadata": {},
   "source": [
    "as expected, the 'gender' feature has 2 unique features"
   ]
  },
  {
   "cell_type": "code",
   "execution_count": 13,
   "id": "c3cb2496",
   "metadata": {},
   "outputs": [
    {
     "name": "stdout",
     "output_type": "stream",
     "text": [
      "1    206\n",
      "0     96\n",
      "Name: gender, dtype: int64\n"
     ]
    },
    {
     "data": {
      "text/plain": [
       "<AxesSubplot:xlabel='gender', ylabel='target'>"
      ]
     },
     "execution_count": 13,
     "metadata": {},
     "output_type": "execute_result"
    },
    {
     "data": {
      "image/png": "[encoded data removed]",
      "text/plain": [
       "<Figure size 432x288 with 1 Axes>"
      ]
     },
     "metadata": {},
     "output_type": "display_data"
    }
   ],
   "source": [
    "gender_temp = df.gender.value_counts()\n",
    "print(gender_temp)\n",
    "sns.set_theme(style=\"whitegrid\")\n",
    "sns.barplot(df[\"gender\"],target_diagram)"
   ]
  },
  {
   "cell_type": "markdown",
   "id": "b92ee01f",
   "metadata": {},
   "source": [
    "females are more likely to have heart problems than males"
   ]
  },
  {
   "cell_type": "markdown",
   "id": "bcd747ac",
   "metadata": {},
   "source": [
    "### Analysing the 'cp' (Chest Pain Type) feature:"
   ]
  },
  {
   "cell_type": "code",
   "execution_count": 14,
   "id": "61a833cd",
   "metadata": {},
   "outputs": [
    {
     "data": {
      "text/plain": [
       "array([4, 3, 2, 1], dtype=int64)"
      ]
     },
     "execution_count": 14,
     "metadata": {},
     "output_type": "execute_result"
    }
   ],
   "source": [
    "df[\"cp\"].unique()"
   ]
  },
  {
   "cell_type": "code",
   "execution_count": 15,
   "id": "15b86382",
   "metadata": {},
   "outputs": [
    {
     "name": "stdout",
     "output_type": "stream",
     "text": [
      "4    141\n",
      "3     88\n",
      "2     50\n",
      "1     23\n",
      "Name: cp, dtype: int64\n"
     ]
    },
    {
     "data": {
      "text/plain": [
       "<AxesSubplot:xlabel='cp', ylabel='target'>"
      ]
     },
     "execution_count": 15,
     "metadata": {},
     "output_type": "execute_result"
    },
    {
     "data": {
      "image/png": "[encoded data removed]",
      "text/plain": [
       "<Figure size 432x288 with 1 Axes>"
      ]
     },
     "metadata": {},
     "output_type": "display_data"
    }
   ],
   "source": [
    "cp_temp = df.cp.value_counts()\n",
    "print(cp_temp)\n",
    "sns.set_theme(style=\"whitegrid\")\n",
    "sns.barplot(df[\"cp\"],target_diagram)"
   ]
  },
  {
   "cell_type": "markdown",
   "id": "06076cce",
   "metadata": {},
   "source": [
    "### Analysing the 'FBS' (fasting blood sugar) feature:"
   ]
  },
  {
   "cell_type": "code",
   "execution_count": 16,
   "id": "b13b75ea",
   "metadata": {},
   "outputs": [
    {
     "data": {
      "text/plain": [
       "array([0, 1], dtype=int64)"
      ]
     },
     "execution_count": 16,
     "metadata": {},
     "output_type": "execute_result"
    }
   ],
   "source": [
    "df[\"fbs\"].unique()"
   ]
  },
  {
   "cell_type": "code",
   "execution_count": 17,
   "id": "70a95a23",
   "metadata": {},
   "outputs": [
    {
     "name": "stdout",
     "output_type": "stream",
     "text": [
      "0    259\n",
      "1     43\n",
      "Name: fbs, dtype: int64\n"
     ]
    },
    {
     "data": {
      "text/plain": [
       "<AxesSubplot:xlabel='fbs', ylabel='target'>"
      ]
     },
     "execution_count": 17,
     "metadata": {},
     "output_type": "execute_result"
    },
    {
     "data": {
      "image/png": "[encoded data removed]",
      "text/plain": [
       "<Figure size 432x288 with 1 Axes>"
      ]
     },
     "metadata": {},
     "output_type": "display_data"
    }
   ],
   "source": [
    "fbs_temp = df.fbs.value_counts()\n",
    "print(fbs_temp)\n",
    "sns.set_theme(style=\"whitegrid\")\n",
    "sns.barplot(df[\"fbs\"],target_diagram)"
   ]
  },
  {
   "cell_type": "markdown",
   "id": "8eaa39f5",
   "metadata": {},
   "source": [
    "Nothing extraordinary here"
   ]
  },
  {
   "cell_type": "markdown",
   "id": "64effa25",
   "metadata": {},
   "source": [
    "### Analysing the 'restecg' (esting electrocardiographic results) feature:"
   ]
  },
  {
   "cell_type": "code",
   "execution_count": 18,
   "id": "2a16fa5a",
   "metadata": {},
   "outputs": [
    {
     "data": {
      "text/plain": [
       "array([2, 0, 1], dtype=int64)"
      ]
     },
     "execution_count": 18,
     "metadata": {},
     "output_type": "execute_result"
    }
   ],
   "source": [
    "df[\"restecg\"].unique()"
   ]
  },
  {
   "cell_type": "code",
   "execution_count": 19,
   "id": "33bcbcc6",
   "metadata": {},
   "outputs": [
    {
     "name": "stdout",
     "output_type": "stream",
     "text": [
      "0    150\n",
      "2    148\n",
      "1      4\n",
      "Name: restecg, dtype: int64\n"
     ]
    },
    {
     "data": {
      "text/plain": [
       "<AxesSubplot:xlabel='restecg', ylabel='target'>"
      ]
     },
     "execution_count": 19,
     "metadata": {},
     "output_type": "execute_result"
    },
    {
     "data": {
      "image/png": "[encoded data removed]",
      "text/plain": [
       "<Figure size 432x288 with 1 Axes>"
      ]
     },
     "metadata": {},
     "output_type": "display_data"
    }
   ],
   "source": [
    "restecg_temp = df.restecg.value_counts()\n",
    "print(restecg_temp)\n",
    "sns.set_theme(style=\"whitegrid\")\n",
    "sns.barplot(df[\"restecg\"],target_diagram)"
   ]
  },
  {
   "cell_type": "markdown",
   "id": "07f81959",
   "metadata": {},
   "source": [
    "the people with restecg '1' and '0' are much more likely to have a heart disease than with restecg '2'"
   ]
  },
  {
   "cell_type": "markdown",
   "id": "3dbb1b98",
   "metadata": {},
   "source": [
    "### Analysing the 'exang' (exercise induced angina) feature:"
   ]
  },
  {
   "cell_type": "code",
   "execution_count": 20,
   "id": "c812bb0c",
   "metadata": {},
   "outputs": [
    {
     "data": {
      "text/plain": [
       "array([1, 0], dtype=int64)"
      ]
     },
     "execution_count": 20,
     "metadata": {},
     "output_type": "execute_result"
    }
   ],
   "source": [
    "df[\"exang\"].unique()"
   ]
  },
  {
   "cell_type": "code",
   "execution_count": 21,
   "id": "7dc7db8b",
   "metadata": {},
   "outputs": [
    {
     "name": "stdout",
     "output_type": "stream",
     "text": [
      "0    204\n",
      "1     98\n",
      "Name: exang, dtype: int64\n"
     ]
    },
    {
     "data": {
      "text/plain": [
       "<AxesSubplot:xlabel='exang', ylabel='target'>"
      ]
     },
     "execution_count": 21,
     "metadata": {},
     "output_type": "execute_result"
    },
    {
     "data": {
      "image/png": "[encoded data removed]",
      "text/plain": [
       "<Figure size 432x288 with 1 Axes>"
      ]
     },
     "metadata": {},
     "output_type": "display_data"
    }
   ],
   "source": [
    "exang_temp = df.exang.value_counts()\n",
    "print(exang_temp)\n",
    "sns.set_theme(style=\"whitegrid\")\n",
    "sns.barplot(df[\"exang\"],target_diagram)"
   ]
  },
  {
   "cell_type": "markdown",
   "id": "acafea6c",
   "metadata": {},
   "source": [
    "the People with exang=1 i.e. Exercise induced angina are much less likely to have heart problems"
   ]
  },
  {
   "cell_type": "markdown",
   "id": "243123b9",
   "metadata": {},
   "source": [
    "### Analysing the 'slope' (the slope of the peak exercise ST segment) feature:"
   ]
  },
  {
   "cell_type": "code",
   "execution_count": 22,
   "id": "222297cd",
   "metadata": {},
   "outputs": [
    {
     "data": {
      "text/plain": [
       "array([2, 3, 1], dtype=int64)"
      ]
     },
     "execution_count": 22,
     "metadata": {},
     "output_type": "execute_result"
    }
   ],
   "source": [
    "df[\"slope\"].unique()"
   ]
  },
  {
   "cell_type": "code",
   "execution_count": 23,
   "id": "4239b05c",
   "metadata": {},
   "outputs": [
    {
     "name": "stdout",
     "output_type": "stream",
     "text": [
      "1    144\n",
      "2    138\n",
      "3     20\n",
      "Name: slope, dtype: int64\n"
     ]
    },
    {
     "data": {
      "text/plain": [
       "<AxesSubplot:xlabel='slope', ylabel='target'>"
      ]
     },
     "execution_count": 23,
     "metadata": {},
     "output_type": "execute_result"
    },
    {
     "data": {
      "image/png": "[encoded data removed]",
      "text/plain": [
       "<Figure size 432x288 with 1 Axes>"
      ]
     },
     "metadata": {},
     "output_type": "display_data"
    }
   ],
   "source": [
    "slope_temp = df.slope.value_counts()\n",
    "print(slope_temp)\n",
    "sns.set_theme(style=\"whitegrid\")\n",
    "sns.barplot(df[\"slope\"],target_diagram)"
   ]
  },
  {
   "cell_type": "markdown",
   "id": "6abf73e3",
   "metadata": {},
   "source": [
    "Slope '2' causes heart pain much more than Slope '0' and '1'"
   ]
  },
  {
   "cell_type": "markdown",
   "id": "ae374b61",
   "metadata": {},
   "source": [
    "### Analysing the 'ca' (number of major vessels (0-3) colored by flourosopy) feature:"
   ]
  },
  {
   "cell_type": "code",
   "execution_count": 24,
   "id": "abd00b1b",
   "metadata": {},
   "outputs": [
    {
     "data": {
      "text/plain": [
       "array([3, 2, 0, 1], dtype=int64)"
      ]
     },
     "execution_count": 24,
     "metadata": {},
     "output_type": "execute_result"
    }
   ],
   "source": [
    "df[\"ca\"].unique()"
   ]
  },
  {
   "cell_type": "code",
   "execution_count": 25,
   "id": "048b8256",
   "metadata": {},
   "outputs": [
    {
     "name": "stdout",
     "output_type": "stream",
     "text": [
      "0    178\n",
      "1     66\n",
      "2     38\n",
      "3     20\n",
      "Name: ca, dtype: int64\n"
     ]
    },
    {
     "data": {
      "text/plain": [
       "<AxesSubplot:xlabel='ca', ylabel='target'>"
      ]
     },
     "execution_count": 25,
     "metadata": {},
     "output_type": "execute_result"
    },
    {
     "data": {
      "image/png": "[encoded data removed]",
      "text/plain": [
       "<Figure size 432x288 with 1 Axes>"
      ]
     },
     "metadata": {},
     "output_type": "display_data"
    }
   ],
   "source": [
    "ca_temp = df.ca.value_counts()\n",
    "print(ca_temp)\n",
    "sns.set_theme(style=\"whitegrid\")\n",
    "sns.barplot(df[\"ca\"],target_diagram)"
   ]
  },
  {
   "cell_type": "markdown",
   "id": "66a7cd0c",
   "metadata": {},
   "source": [
    "ca=4 has astonishingly large number of heart patients"
   ]
  },
  {
   "cell_type": "markdown",
   "id": "4e56a4f5",
   "metadata": {},
   "source": [
    "Analysing the 'thal' feature:"
   ]
  },
  {
   "cell_type": "code",
   "execution_count": 26,
   "id": "1de18436",
   "metadata": {},
   "outputs": [
    {
     "data": {
      "text/plain": [
       "array([3, 7, 6], dtype=int64)"
      ]
     },
     "execution_count": 26,
     "metadata": {},
     "output_type": "execute_result"
    }
   ],
   "source": [
    "df[\"thal\"].unique()"
   ]
  },
  {
   "cell_type": "code",
   "execution_count": 27,
   "id": "396e8e8b",
   "metadata": {},
   "outputs": [
    {
     "name": "stdout",
     "output_type": "stream",
     "text": [
      "3    169\n",
      "7    116\n",
      "6     17\n",
      "Name: thal, dtype: int64\n"
     ]
    },
    {
     "data": {
      "text/plain": [
       "<AxesSubplot:xlabel='thal', ylabel='target'>"
      ]
     },
     "execution_count": 27,
     "metadata": {},
     "output_type": "execute_result"
    },
    {
     "data": {
      "image/png": "[encoded data removed]",
      "text/plain": [
       "<Figure size 432x288 with 1 Axes>"
      ]
     },
     "metadata": {},
     "output_type": "display_data"
    }
   ],
   "source": [
    "thal_temp = df.thal.value_counts()\n",
    "print(thal_temp)\n",
    "sns.set_theme(style=\"whitegrid\")\n",
    "sns.barplot(df[\"thal\"],target_diagram)"
   ]
  },
  {
   "cell_type": "markdown",
   "id": "84a76819",
   "metadata": {},
   "source": [
    "# Check the output of the algorithms without feature selection"
   ]
  },
  {
   "cell_type": "code",
   "execution_count": 183,
   "id": "55d80fa4",
   "metadata": {
    "scrolled": false
   },
   "outputs": [
    {
     "data": {
      "text/html": [
       "<div>\n",
       "<style scoped>\n",
       "    .dataframe tbody tr th:only-of-type {\n",
       "        vertical-align: middle;\n",
       "    }\n",
       "\n",
       "    .dataframe tbody tr th {\n",
       "        vertical-align: top;\n",
       "    }\n",
       "\n",
       "    .dataframe thead th {\n",
       "        text-align: right;\n",
       "    }\n",
       "</style>\n",
       "<table border=\"1\" class=\"dataframe\">\n",
       "  <thead>\n",
       "    <tr style=\"text-align: right;\">\n",
       "      <th></th>\n",
       "      <th>accuracy</th>\n",
       "      <th>recall</th>\n",
       "      <th>specificity</th>\n",
       "      <th>precision</th>\n",
       "      <th>F1</th>\n",
       "    </tr>\n",
       "  </thead>\n",
       "  <tbody>\n",
       "    <tr>\n",
       "      <th>SVM</th>\n",
       "      <td>0.665591</td>\n",
       "      <td>0.521020</td>\n",
       "      <td>0.793024</td>\n",
       "      <td>0.684098</td>\n",
       "      <td>0.576713</td>\n",
       "    </tr>\n",
       "    <tr>\n",
       "      <th>Logistic Regression</th>\n",
       "      <td>0.837634</td>\n",
       "      <td>0.790223</td>\n",
       "      <td>0.882577</td>\n",
       "      <td>0.855234</td>\n",
       "      <td>0.814679</td>\n",
       "    </tr>\n",
       "    <tr>\n",
       "      <th>NB</th>\n",
       "      <td>0.774839</td>\n",
       "      <td>0.740221</td>\n",
       "      <td>0.809954</td>\n",
       "      <td>0.774513</td>\n",
       "      <td>0.748464</td>\n",
       "    </tr>\n",
       "    <tr>\n",
       "      <th>KNN</th>\n",
       "      <td>0.655806</td>\n",
       "      <td>0.594574</td>\n",
       "      <td>0.722234</td>\n",
       "      <td>0.639783</td>\n",
       "      <td>0.603076</td>\n",
       "    </tr>\n",
       "    <tr>\n",
       "      <th>Dtree</th>\n",
       "      <td>0.744516</td>\n",
       "      <td>0.745637</td>\n",
       "      <td>0.748481</td>\n",
       "      <td>0.713548</td>\n",
       "      <td>0.723367</td>\n",
       "    </tr>\n",
       "    <tr>\n",
       "      <th>Random Forest</th>\n",
       "      <td>0.820753</td>\n",
       "      <td>0.773439</td>\n",
       "      <td>0.865846</td>\n",
       "      <td>0.833590</td>\n",
       "      <td>0.796767</td>\n",
       "    </tr>\n",
       "    <tr>\n",
       "      <th>Multi-layer-Perceptron</th>\n",
       "      <td>0.824301</td>\n",
       "      <td>0.778293</td>\n",
       "      <td>0.871987</td>\n",
       "      <td>0.841103</td>\n",
       "      <td>0.799116</td>\n",
       "    </tr>\n",
       "    <tr>\n",
       "      <th>XGBoost</th>\n",
       "      <td>0.797742</td>\n",
       "      <td>0.771132</td>\n",
       "      <td>0.825124</td>\n",
       "      <td>0.786666</td>\n",
       "      <td>0.773846</td>\n",
       "    </tr>\n",
       "    <tr>\n",
       "      <th>Stochastic-Gradient-Descent</th>\n",
       "      <td>0.592688</td>\n",
       "      <td>0.506009</td>\n",
       "      <td>0.705384</td>\n",
       "      <td>0.614566</td>\n",
       "      <td>0.447018</td>\n",
       "    </tr>\n",
       "    <tr>\n",
       "      <th>AdaBoost</th>\n",
       "      <td>0.797527</td>\n",
       "      <td>0.751125</td>\n",
       "      <td>0.841825</td>\n",
       "      <td>0.804699</td>\n",
       "      <td>0.771656</td>\n",
       "    </tr>\n",
       "    <tr>\n",
       "      <th>LightGBM</th>\n",
       "      <td>0.804301</td>\n",
       "      <td>0.760601</td>\n",
       "      <td>0.848492</td>\n",
       "      <td>0.802548</td>\n",
       "      <td>0.775169</td>\n",
       "    </tr>\n",
       "    <tr>\n",
       "      <th>catBoost</th>\n",
       "      <td>0.823978</td>\n",
       "      <td>0.786127</td>\n",
       "      <td>0.861240</td>\n",
       "      <td>0.824994</td>\n",
       "      <td>0.799307</td>\n",
       "    </tr>\n",
       "  </tbody>\n",
       "</table>\n",
       "</div>"
      ],
      "text/plain": [
       "                             accuracy    recall  specificity  precision  \\\n",
       "SVM                          0.665591  0.521020     0.793024   0.684098   \n",
       "Logistic Regression          0.837634  0.790223     0.882577   0.855234   \n",
       "NB                           0.774839  0.740221     0.809954   0.774513   \n",
       "KNN                          0.655806  0.594574     0.722234   0.639783   \n",
       "Dtree                        0.744516  0.745637     0.748481   0.713548   \n",
       "Random Forest                0.820753  0.773439     0.865846   0.833590   \n",
       "Multi-layer-Perceptron       0.824301  0.778293     0.871987   0.841103   \n",
       "XGBoost                      0.797742  0.771132     0.825124   0.786666   \n",
       "Stochastic-Gradient-Descent  0.592688  0.506009     0.705384   0.614566   \n",
       "AdaBoost                     0.797527  0.751125     0.841825   0.804699   \n",
       "LightGBM                     0.804301  0.760601     0.848492   0.802548   \n",
       "catBoost                     0.823978  0.786127     0.861240   0.824994   \n",
       "\n",
       "                                   F1  \n",
       "SVM                          0.576713  \n",
       "Logistic Regression          0.814679  \n",
       "NB                           0.748464  \n",
       "KNN                          0.603076  \n",
       "Dtree                        0.723367  \n",
       "Random Forest                0.796767  \n",
       "Multi-layer-Perceptron       0.799116  \n",
       "XGBoost                      0.773846  \n",
       "Stochastic-Gradient-Descent  0.447018  \n",
       "AdaBoost                     0.771656  \n",
       "LightGBM                     0.775169  \n",
       "catBoost                     0.799307  "
      ]
     },
     "execution_count": 183,
     "metadata": {},
     "output_type": "execute_result"
    }
   ],
   "source": [
    "algo={\n",
    "    'NB':MultinomialNB(alpha=1.0),\n",
    "    'Logistic Regression':LogisticRegression(),\n",
    "    'SVM':svm.SVC(kernel='poly',random_state=5),\n",
    "    'KNN':KNeighborsClassifier(n_neighbors=5),\n",
    "    'Dtree':DecisionTreeClassifier(),\n",
    "    'Random Forest':RandomForestClassifier(random_state=2),\n",
    "    'Multi-layer-Perceptron':MLPClassifier(solver='lbfgs', alpha=1e-5,random_state=3),\n",
    "    'XGBoost':xgb.XGBClassifier(objective=\"binary:logistic\", random_state=3),\n",
    "    'Stochastic-Gradient-Descent':SGDClassifier(loss=\"hinge\", penalty=\"l2\", max_iter=8),\n",
    "    'AdaBoost':AdaBoostClassifier(n_estimators=100, random_state=3),\n",
    "    'LightGBM ':LGBMClassifier(),\n",
    "    'catBoost':CatBoostClassifier(verbose=0, n_estimators=100),\n",
    "}\n",
    "\n",
    "df2 = df.drop(['target'], axis = 1)\n",
    "df_col =df2.columns\n",
    "result_beforeNorm=k_fold_results(df2[df_col],df['target'],algo=algo)\n",
    "result_beforeNorm.T"
   ]
  },
  {
   "cell_type": "code",
   "execution_count": 184,
   "id": "84c16241",
   "metadata": {},
   "outputs": [],
   "source": [
    "res_pure=result_beforeNorm.T\n",
    "MLA=res_pure.index\n",
    "scores_pure = res_pure['accuracy'].values\n"
   ]
  },
  {
   "cell_type": "code",
   "execution_count": 185,
   "id": "9f060e2c",
   "metadata": {},
   "outputs": [
    {
     "data": {
      "text/plain": [
       "array(['SVM', 'LR', 'NB', 'KNN', 'Dtree', 'RF', 'MLP', 'XGB', 'SGD',\n",
       "       'AdaBoost', 'LGBM', 'catBoost'], dtype=object)"
      ]
     },
     "execution_count": 185,
     "metadata": {},
     "output_type": "execute_result"
    }
   ],
   "source": [
    "MLA=MLA.values\n",
    "MLA[1] = 'LR'\n",
    "MLA[5] = 'RF'\n",
    "MLA[6] = 'MLP'\n",
    "MLA[7] = 'XGB'\n",
    "MLA[8] = 'SGD'\n",
    "MLA[10] = 'LGBM'\n",
    "MLA"
   ]
  },
  {
   "cell_type": "code",
   "execution_count": 186,
   "id": "8b1b221c",
   "metadata": {},
   "outputs": [
    {
     "data": {
      "text/plain": [
       "array([0.6655914 , 0.83763441, 0.77483871, 0.65580645, 0.74451613,\n",
       "       0.82075269, 0.82430108, 0.79774194, 0.59268817, 0.79752688,\n",
       "       0.80430108, 0.82397849])"
      ]
     },
     "execution_count": 186,
     "metadata": {},
     "output_type": "execute_result"
    }
   ],
   "source": [
    "scores_pure"
   ]
  },
  {
   "cell_type": "code",
   "execution_count": 187,
   "id": "d1868e85",
   "metadata": {},
   "outputs": [
    {
     "data": {
      "text/plain": [
       "<AxesSubplot:xlabel='Algorithms', ylabel='Accuracy score'>"
      ]
     },
     "execution_count": 187,
     "metadata": {},
     "output_type": "execute_result"
    },
    {
     "data": {
      "image/png": "[encoded data removed]",
      "text/plain": [
       "<Figure size 1080x576 with 1 Axes>"
      ]
     },
     "metadata": {},
     "output_type": "display_data"
    }
   ],
   "source": [
    "sns.set(rc={'figure.figsize':(15,8)})\n",
    "plt.xlabel(\"Algorithms\")\n",
    "plt.ylabel(\"Accuracy score\")\n",
    "sns.barplot(MLA,scores_pure)"
   ]
  },
  {
   "cell_type": "markdown",
   "id": "de58d729",
   "metadata": {},
   "source": [
    "# Read minmax.csv"
   ]
  },
  {
   "cell_type": "code",
   "execution_count": 188,
   "id": "3c9b957e",
   "metadata": {},
   "outputs": [
    {
     "data": {
      "text/html": [
       "<div>\n",
       "<style scoped>\n",
       "    .dataframe tbody tr th:only-of-type {\n",
       "        vertical-align: middle;\n",
       "    }\n",
       "\n",
       "    .dataframe tbody tr th {\n",
       "        vertical-align: top;\n",
       "    }\n",
       "\n",
       "    .dataframe thead th {\n",
       "        text-align: right;\n",
       "    }\n",
       "</style>\n",
       "<table border=\"1\" class=\"dataframe\">\n",
       "  <thead>\n",
       "    <tr style=\"text-align: right;\">\n",
       "      <th></th>\n",
       "      <th>age</th>\n",
       "      <th>gender</th>\n",
       "      <th>cp</th>\n",
       "      <th>trestbps</th>\n",
       "      <th>chol</th>\n",
       "      <th>fbs</th>\n",
       "      <th>restecg</th>\n",
       "      <th>thalach</th>\n",
       "      <th>exang</th>\n",
       "      <th>oldpeak</th>\n",
       "      <th>slope</th>\n",
       "      <th>ca</th>\n",
       "      <th>thal</th>\n",
       "      <th>target</th>\n",
       "    </tr>\n",
       "  </thead>\n",
       "  <tbody>\n",
       "    <tr>\n",
       "      <th>0</th>\n",
       "      <td>0.791667</td>\n",
       "      <td>1</td>\n",
       "      <td>1.000000</td>\n",
       "      <td>0.622642</td>\n",
       "      <td>0.365297</td>\n",
       "      <td>0</td>\n",
       "      <td>1.0</td>\n",
       "      <td>0.282443</td>\n",
       "      <td>1</td>\n",
       "      <td>0.241935</td>\n",
       "      <td>0.5</td>\n",
       "      <td>1.000000</td>\n",
       "      <td>0.0</td>\n",
       "      <td>1</td>\n",
       "    </tr>\n",
       "    <tr>\n",
       "      <th>1</th>\n",
       "      <td>0.791667</td>\n",
       "      <td>1</td>\n",
       "      <td>1.000000</td>\n",
       "      <td>0.245283</td>\n",
       "      <td>0.235160</td>\n",
       "      <td>0</td>\n",
       "      <td>1.0</td>\n",
       "      <td>0.442748</td>\n",
       "      <td>1</td>\n",
       "      <td>0.419355</td>\n",
       "      <td>0.5</td>\n",
       "      <td>0.666667</td>\n",
       "      <td>1.0</td>\n",
       "      <td>1</td>\n",
       "    </tr>\n",
       "    <tr>\n",
       "      <th>2</th>\n",
       "      <td>0.166667</td>\n",
       "      <td>1</td>\n",
       "      <td>0.666667</td>\n",
       "      <td>0.339623</td>\n",
       "      <td>0.283105</td>\n",
       "      <td>0</td>\n",
       "      <td>0.0</td>\n",
       "      <td>0.885496</td>\n",
       "      <td>0</td>\n",
       "      <td>0.564516</td>\n",
       "      <td>1.0</td>\n",
       "      <td>0.000000</td>\n",
       "      <td>0.0</td>\n",
       "      <td>0</td>\n",
       "    </tr>\n",
       "    <tr>\n",
       "      <th>3</th>\n",
       "      <td>0.250000</td>\n",
       "      <td>0</td>\n",
       "      <td>0.333333</td>\n",
       "      <td>0.339623</td>\n",
       "      <td>0.178082</td>\n",
       "      <td>0</td>\n",
       "      <td>1.0</td>\n",
       "      <td>0.770992</td>\n",
       "      <td>0</td>\n",
       "      <td>0.225806</td>\n",
       "      <td>0.0</td>\n",
       "      <td>0.000000</td>\n",
       "      <td>0.0</td>\n",
       "      <td>0</td>\n",
       "    </tr>\n",
       "    <tr>\n",
       "      <th>4</th>\n",
       "      <td>0.562500</td>\n",
       "      <td>1</td>\n",
       "      <td>0.333333</td>\n",
       "      <td>0.245283</td>\n",
       "      <td>0.251142</td>\n",
       "      <td>0</td>\n",
       "      <td>0.0</td>\n",
       "      <td>0.816794</td>\n",
       "      <td>0</td>\n",
       "      <td>0.129032</td>\n",
       "      <td>0.0</td>\n",
       "      <td>0.000000</td>\n",
       "      <td>0.0</td>\n",
       "      <td>0</td>\n",
       "    </tr>\n",
       "  </tbody>\n",
       "</table>\n",
       "</div>"
      ],
      "text/plain": [
       "        age  gender        cp  trestbps      chol  fbs  restecg   thalach  \\\n",
       "0  0.791667       1  1.000000  0.622642  0.365297    0      1.0  0.282443   \n",
       "1  0.791667       1  1.000000  0.245283  0.235160    0      1.0  0.442748   \n",
       "2  0.166667       1  0.666667  0.339623  0.283105    0      0.0  0.885496   \n",
       "3  0.250000       0  0.333333  0.339623  0.178082    0      1.0  0.770992   \n",
       "4  0.562500       1  0.333333  0.245283  0.251142    0      0.0  0.816794   \n",
       "\n",
       "   exang   oldpeak  slope        ca  thal  target  \n",
       "0      1  0.241935    0.5  1.000000   0.0       1  \n",
       "1      1  0.419355    0.5  0.666667   1.0       1  \n",
       "2      0  0.564516    1.0  0.000000   0.0       0  \n",
       "3      0  0.225806    0.0  0.000000   0.0       0  \n",
       "4      0  0.129032    0.0  0.000000   0.0       0  "
      ]
     },
     "execution_count": 188,
     "metadata": {},
     "output_type": "execute_result"
    }
   ],
   "source": [
    "df_minmax = pd.read_csv('dataset\\minmax.csv')\n",
    "df_minmax.head()"
   ]
  },
  {
   "cell_type": "markdown",
   "id": "a9df8241",
   "metadata": {},
   "source": [
    "# Feature Selections methods"
   ]
  },
  {
   "cell_type": "markdown",
   "id": "03cd7864",
   "metadata": {},
   "source": [
    "### Correlation:"
   ]
  },
  {
   "cell_type": "code",
   "execution_count": 189,
   "id": "ed88a69d",
   "metadata": {},
   "outputs": [
    {
     "data": {
      "text/html": [
       "<div>\n",
       "<style scoped>\n",
       "    .dataframe tbody tr th:only-of-type {\n",
       "        vertical-align: middle;\n",
       "    }\n",
       "\n",
       "    .dataframe tbody tr th {\n",
       "        vertical-align: top;\n",
       "    }\n",
       "\n",
       "    .dataframe thead th {\n",
       "        text-align: right;\n",
       "    }\n",
       "</style>\n",
       "<table border=\"1\" class=\"dataframe\">\n",
       "  <thead>\n",
       "    <tr style=\"text-align: right;\">\n",
       "      <th></th>\n",
       "      <th>age</th>\n",
       "      <th>gender</th>\n",
       "      <th>cp</th>\n",
       "      <th>trestbps</th>\n",
       "      <th>chol</th>\n",
       "      <th>fbs</th>\n",
       "      <th>restecg</th>\n",
       "      <th>thalach</th>\n",
       "      <th>exang</th>\n",
       "      <th>oldpeak</th>\n",
       "      <th>slope</th>\n",
       "      <th>ca</th>\n",
       "      <th>thal</th>\n",
       "      <th>target</th>\n",
       "    </tr>\n",
       "  </thead>\n",
       "  <tbody>\n",
       "    <tr>\n",
       "      <th>0</th>\n",
       "      <td>0.791667</td>\n",
       "      <td>1</td>\n",
       "      <td>1.000000</td>\n",
       "      <td>0.622642</td>\n",
       "      <td>0.365297</td>\n",
       "      <td>0</td>\n",
       "      <td>1.0</td>\n",
       "      <td>0.282443</td>\n",
       "      <td>1</td>\n",
       "      <td>0.241935</td>\n",
       "      <td>0.5</td>\n",
       "      <td>1.000000</td>\n",
       "      <td>0.00</td>\n",
       "      <td>1</td>\n",
       "    </tr>\n",
       "    <tr>\n",
       "      <th>1</th>\n",
       "      <td>0.791667</td>\n",
       "      <td>1</td>\n",
       "      <td>1.000000</td>\n",
       "      <td>0.245283</td>\n",
       "      <td>0.235160</td>\n",
       "      <td>0</td>\n",
       "      <td>1.0</td>\n",
       "      <td>0.442748</td>\n",
       "      <td>1</td>\n",
       "      <td>0.419355</td>\n",
       "      <td>0.5</td>\n",
       "      <td>0.666667</td>\n",
       "      <td>1.00</td>\n",
       "      <td>1</td>\n",
       "    </tr>\n",
       "    <tr>\n",
       "      <th>2</th>\n",
       "      <td>0.166667</td>\n",
       "      <td>1</td>\n",
       "      <td>0.666667</td>\n",
       "      <td>0.339623</td>\n",
       "      <td>0.283105</td>\n",
       "      <td>0</td>\n",
       "      <td>0.0</td>\n",
       "      <td>0.885496</td>\n",
       "      <td>0</td>\n",
       "      <td>0.564516</td>\n",
       "      <td>1.0</td>\n",
       "      <td>0.000000</td>\n",
       "      <td>0.00</td>\n",
       "      <td>0</td>\n",
       "    </tr>\n",
       "    <tr>\n",
       "      <th>3</th>\n",
       "      <td>0.250000</td>\n",
       "      <td>0</td>\n",
       "      <td>0.333333</td>\n",
       "      <td>0.339623</td>\n",
       "      <td>0.178082</td>\n",
       "      <td>0</td>\n",
       "      <td>1.0</td>\n",
       "      <td>0.770992</td>\n",
       "      <td>0</td>\n",
       "      <td>0.225806</td>\n",
       "      <td>0.0</td>\n",
       "      <td>0.000000</td>\n",
       "      <td>0.00</td>\n",
       "      <td>0</td>\n",
       "    </tr>\n",
       "    <tr>\n",
       "      <th>4</th>\n",
       "      <td>0.562500</td>\n",
       "      <td>1</td>\n",
       "      <td>0.333333</td>\n",
       "      <td>0.245283</td>\n",
       "      <td>0.251142</td>\n",
       "      <td>0</td>\n",
       "      <td>0.0</td>\n",
       "      <td>0.816794</td>\n",
       "      <td>0</td>\n",
       "      <td>0.129032</td>\n",
       "      <td>0.0</td>\n",
       "      <td>0.000000</td>\n",
       "      <td>0.00</td>\n",
       "      <td>0</td>\n",
       "    </tr>\n",
       "    <tr>\n",
       "      <th>5</th>\n",
       "      <td>0.687500</td>\n",
       "      <td>0</td>\n",
       "      <td>1.000000</td>\n",
       "      <td>0.433962</td>\n",
       "      <td>0.324201</td>\n",
       "      <td>0</td>\n",
       "      <td>1.0</td>\n",
       "      <td>0.679389</td>\n",
       "      <td>0</td>\n",
       "      <td>0.580645</td>\n",
       "      <td>1.0</td>\n",
       "      <td>0.666667</td>\n",
       "      <td>0.00</td>\n",
       "      <td>1</td>\n",
       "    </tr>\n",
       "    <tr>\n",
       "      <th>6</th>\n",
       "      <td>0.583333</td>\n",
       "      <td>0</td>\n",
       "      <td>1.000000</td>\n",
       "      <td>0.245283</td>\n",
       "      <td>0.520548</td>\n",
       "      <td>0</td>\n",
       "      <td>0.0</td>\n",
       "      <td>0.702290</td>\n",
       "      <td>1</td>\n",
       "      <td>0.096774</td>\n",
       "      <td>0.0</td>\n",
       "      <td>0.000000</td>\n",
       "      <td>0.00</td>\n",
       "      <td>0</td>\n",
       "    </tr>\n",
       "    <tr>\n",
       "      <th>7</th>\n",
       "      <td>0.708333</td>\n",
       "      <td>1</td>\n",
       "      <td>1.000000</td>\n",
       "      <td>0.339623</td>\n",
       "      <td>0.292237</td>\n",
       "      <td>0</td>\n",
       "      <td>1.0</td>\n",
       "      <td>0.580153</td>\n",
       "      <td>0</td>\n",
       "      <td>0.225806</td>\n",
       "      <td>0.5</td>\n",
       "      <td>0.333333</td>\n",
       "      <td>1.00</td>\n",
       "      <td>1</td>\n",
       "    </tr>\n",
       "    <tr>\n",
       "      <th>8</th>\n",
       "      <td>0.500000</td>\n",
       "      <td>1</td>\n",
       "      <td>1.000000</td>\n",
       "      <td>0.433962</td>\n",
       "      <td>0.175799</td>\n",
       "      <td>1</td>\n",
       "      <td>1.0</td>\n",
       "      <td>0.641221</td>\n",
       "      <td>1</td>\n",
       "      <td>0.500000</td>\n",
       "      <td>1.0</td>\n",
       "      <td>0.000000</td>\n",
       "      <td>1.00</td>\n",
       "      <td>1</td>\n",
       "    </tr>\n",
       "    <tr>\n",
       "      <th>9</th>\n",
       "      <td>0.583333</td>\n",
       "      <td>1</td>\n",
       "      <td>1.000000</td>\n",
       "      <td>0.433962</td>\n",
       "      <td>0.150685</td>\n",
       "      <td>0</td>\n",
       "      <td>0.0</td>\n",
       "      <td>0.587786</td>\n",
       "      <td>0</td>\n",
       "      <td>0.064516</td>\n",
       "      <td>0.5</td>\n",
       "      <td>0.000000</td>\n",
       "      <td>0.75</td>\n",
       "      <td>0</td>\n",
       "    </tr>\n",
       "  </tbody>\n",
       "</table>\n",
       "</div>"
      ],
      "text/plain": [
       "        age  gender        cp  trestbps      chol  fbs  restecg   thalach  \\\n",
       "0  0.791667       1  1.000000  0.622642  0.365297    0      1.0  0.282443   \n",
       "1  0.791667       1  1.000000  0.245283  0.235160    0      1.0  0.442748   \n",
       "2  0.166667       1  0.666667  0.339623  0.283105    0      0.0  0.885496   \n",
       "3  0.250000       0  0.333333  0.339623  0.178082    0      1.0  0.770992   \n",
       "4  0.562500       1  0.333333  0.245283  0.251142    0      0.0  0.816794   \n",
       "5  0.687500       0  1.000000  0.433962  0.324201    0      1.0  0.679389   \n",
       "6  0.583333       0  1.000000  0.245283  0.520548    0      0.0  0.702290   \n",
       "7  0.708333       1  1.000000  0.339623  0.292237    0      1.0  0.580153   \n",
       "8  0.500000       1  1.000000  0.433962  0.175799    1      1.0  0.641221   \n",
       "9  0.583333       1  1.000000  0.433962  0.150685    0      0.0  0.587786   \n",
       "\n",
       "   exang   oldpeak  slope        ca  thal  target  \n",
       "0      1  0.241935    0.5  1.000000  0.00       1  \n",
       "1      1  0.419355    0.5  0.666667  1.00       1  \n",
       "2      0  0.564516    1.0  0.000000  0.00       0  \n",
       "3      0  0.225806    0.0  0.000000  0.00       0  \n",
       "4      0  0.129032    0.0  0.000000  0.00       0  \n",
       "5      0  0.580645    1.0  0.666667  0.00       1  \n",
       "6      1  0.096774    0.0  0.000000  0.00       0  \n",
       "7      0  0.225806    0.5  0.333333  1.00       1  \n",
       "8      1  0.500000    1.0  0.000000  1.00       1  \n",
       "9      0  0.064516    0.5  0.000000  0.75       0  "
      ]
     },
     "execution_count": 189,
     "metadata": {},
     "output_type": "execute_result"
    }
   ],
   "source": [
    "df_minmax.head(10)"
   ]
  },
  {
   "cell_type": "code",
   "execution_count": 190,
   "id": "0f52da2e",
   "metadata": {},
   "outputs": [
    {
     "data": {
      "text/plain": [
       "<AxesSubplot:>"
      ]
     },
     "execution_count": 190,
     "metadata": {},
     "output_type": "execute_result"
    },
    {
     "data": {
      "image/png": "[encoded data removed]",
      "text/plain": [
       "<Figure size 1080x720 with 2 Axes>"
      ]
     },
     "metadata": {},
     "output_type": "display_data"
    }
   ],
   "source": [
    "cor = df_minmax.corr()\n",
    "plt.figure(figsize = (15,10))\n",
    "sns.heatmap(cor, annot=True,cmap=plt.cm.Reds)"
   ]
  },
  {
   "cell_type": "code",
   "execution_count": 191,
   "id": "570c3e4a",
   "metadata": {},
   "outputs": [
    {
     "data": {
      "text/plain": [
       "cp         0.409720\n",
       "thalach    0.423769\n",
       "exang      0.429033\n",
       "oldpeak    0.431761\n",
       "ca         0.463886\n",
       "thal       0.531372\n",
       "target     1.000000\n",
       "Name: target, dtype: float64"
      ]
     },
     "execution_count": 191,
     "metadata": {},
     "output_type": "execute_result"
    }
   ],
   "source": [
    "#Correlation with output variable\n",
    "cor_target = abs(cor[\"target\"])\n",
    "#Selecting highly correlated features\n",
    "relevant_features = cor_target[cor_target>0.4]\n",
    "relevant_features"
   ]
  },
  {
   "cell_type": "code",
   "execution_count": 192,
   "id": "df1b7aaf",
   "metadata": {},
   "outputs": [
    {
     "data": {
      "text/plain": [
       "array(['cp', 'thalach', 'exang', 'oldpeak', 'ca', 'thal', 'target'],\n",
       "      dtype=object)"
      ]
     },
     "execution_count": 192,
     "metadata": {},
     "output_type": "execute_result"
    }
   ],
   "source": [
    "df_select_correlation = np.array(relevant_features.index)\n",
    "df_select_correlation"
   ]
  },
  {
   "cell_type": "code",
   "execution_count": 193,
   "id": "89eeb637",
   "metadata": {},
   "outputs": [
    {
     "data": {
      "text/html": [
       "<div>\n",
       "<style scoped>\n",
       "    .dataframe tbody tr th:only-of-type {\n",
       "        vertical-align: middle;\n",
       "    }\n",
       "\n",
       "    .dataframe tbody tr th {\n",
       "        vertical-align: top;\n",
       "    }\n",
       "\n",
       "    .dataframe thead th {\n",
       "        text-align: right;\n",
       "    }\n",
       "</style>\n",
       "<table border=\"1\" class=\"dataframe\">\n",
       "  <thead>\n",
       "    <tr style=\"text-align: right;\">\n",
       "      <th></th>\n",
       "      <th>cp</th>\n",
       "      <th>thalach</th>\n",
       "      <th>exang</th>\n",
       "      <th>oldpeak</th>\n",
       "      <th>ca</th>\n",
       "      <th>thal</th>\n",
       "      <th>target</th>\n",
       "    </tr>\n",
       "  </thead>\n",
       "  <tbody>\n",
       "    <tr>\n",
       "      <th>0</th>\n",
       "      <td>1.000000</td>\n",
       "      <td>0.282443</td>\n",
       "      <td>1</td>\n",
       "      <td>0.241935</td>\n",
       "      <td>1.000000</td>\n",
       "      <td>0.0</td>\n",
       "      <td>1</td>\n",
       "    </tr>\n",
       "    <tr>\n",
       "      <th>1</th>\n",
       "      <td>1.000000</td>\n",
       "      <td>0.442748</td>\n",
       "      <td>1</td>\n",
       "      <td>0.419355</td>\n",
       "      <td>0.666667</td>\n",
       "      <td>1.0</td>\n",
       "      <td>1</td>\n",
       "    </tr>\n",
       "    <tr>\n",
       "      <th>2</th>\n",
       "      <td>0.666667</td>\n",
       "      <td>0.885496</td>\n",
       "      <td>0</td>\n",
       "      <td>0.564516</td>\n",
       "      <td>0.000000</td>\n",
       "      <td>0.0</td>\n",
       "      <td>0</td>\n",
       "    </tr>\n",
       "    <tr>\n",
       "      <th>3</th>\n",
       "      <td>0.333333</td>\n",
       "      <td>0.770992</td>\n",
       "      <td>0</td>\n",
       "      <td>0.225806</td>\n",
       "      <td>0.000000</td>\n",
       "      <td>0.0</td>\n",
       "      <td>0</td>\n",
       "    </tr>\n",
       "    <tr>\n",
       "      <th>4</th>\n",
       "      <td>0.333333</td>\n",
       "      <td>0.816794</td>\n",
       "      <td>0</td>\n",
       "      <td>0.129032</td>\n",
       "      <td>0.000000</td>\n",
       "      <td>0.0</td>\n",
       "      <td>0</td>\n",
       "    </tr>\n",
       "  </tbody>\n",
       "</table>\n",
       "</div>"
      ],
      "text/plain": [
       "         cp   thalach  exang   oldpeak        ca  thal  target\n",
       "0  1.000000  0.282443      1  0.241935  1.000000   0.0       1\n",
       "1  1.000000  0.442748      1  0.419355  0.666667   1.0       1\n",
       "2  0.666667  0.885496      0  0.564516  0.000000   0.0       0\n",
       "3  0.333333  0.770992      0  0.225806  0.000000   0.0       0\n",
       "4  0.333333  0.816794      0  0.129032  0.000000   0.0       0"
      ]
     },
     "execution_count": 193,
     "metadata": {},
     "output_type": "execute_result"
    }
   ],
   "source": [
    "df_correlation = df_minmax.copy()\n",
    "df_correlation = df_minmax[df_select_correlation]\n",
    "df_correlation.head()"
   ]
  },
  {
   "cell_type": "markdown",
   "id": "4db31c81",
   "metadata": {},
   "source": [
    "## Check the output of the algorithms for df_corr (output of Correlation) :"
   ]
  },
  {
   "cell_type": "code",
   "execution_count": 58,
   "id": "cf6b2128",
   "metadata": {},
   "outputs": [
    {
     "data": {
      "text/html": [
       "<div>\n",
       "<style scoped>\n",
       "    .dataframe tbody tr th:only-of-type {\n",
       "        vertical-align: middle;\n",
       "    }\n",
       "\n",
       "    .dataframe tbody tr th {\n",
       "        vertical-align: top;\n",
       "    }\n",
       "\n",
       "    .dataframe thead th {\n",
       "        text-align: right;\n",
       "    }\n",
       "</style>\n",
       "<table border=\"1\" class=\"dataframe\">\n",
       "  <thead>\n",
       "    <tr style=\"text-align: right;\">\n",
       "      <th></th>\n",
       "      <th>accuracy</th>\n",
       "      <th>recall</th>\n",
       "      <th>specificity</th>\n",
       "      <th>precision</th>\n",
       "      <th>F1</th>\n",
       "    </tr>\n",
       "  </thead>\n",
       "  <tbody>\n",
       "    <tr>\n",
       "      <th>SVM</th>\n",
       "      <td>0.811505</td>\n",
       "      <td>0.740189</td>\n",
       "      <td>0.880227</td>\n",
       "      <td>0.852992</td>\n",
       "      <td>0.780716</td>\n",
       "    </tr>\n",
       "    <tr>\n",
       "      <th>Logistic Regression</th>\n",
       "      <td>0.840968</td>\n",
       "      <td>0.789960</td>\n",
       "      <td>0.887221</td>\n",
       "      <td>0.872508</td>\n",
       "      <td>0.818907</td>\n",
       "    </tr>\n",
       "    <tr>\n",
       "      <th>NB</th>\n",
       "      <td>0.817957</td>\n",
       "      <td>0.763939</td>\n",
       "      <td>0.871562</td>\n",
       "      <td>0.850665</td>\n",
       "      <td>0.793602</td>\n",
       "    </tr>\n",
       "    <tr>\n",
       "      <th>KNN</th>\n",
       "      <td>0.817742</td>\n",
       "      <td>0.767156</td>\n",
       "      <td>0.863526</td>\n",
       "      <td>0.835006</td>\n",
       "      <td>0.793261</td>\n",
       "    </tr>\n",
       "    <tr>\n",
       "      <th>Dtree</th>\n",
       "      <td>0.754624</td>\n",
       "      <td>0.726125</td>\n",
       "      <td>0.782931</td>\n",
       "      <td>0.736752</td>\n",
       "      <td>0.726571</td>\n",
       "    </tr>\n",
       "    <tr>\n",
       "      <th>Random Forest</th>\n",
       "      <td>0.801290</td>\n",
       "      <td>0.752535</td>\n",
       "      <td>0.844374</td>\n",
       "      <td>0.808901</td>\n",
       "      <td>0.771694</td>\n",
       "    </tr>\n",
       "    <tr>\n",
       "      <th>Multi-layer-Perceptron</th>\n",
       "      <td>0.804624</td>\n",
       "      <td>0.773030</td>\n",
       "      <td>0.839082</td>\n",
       "      <td>0.810716</td>\n",
       "      <td>0.782352</td>\n",
       "    </tr>\n",
       "    <tr>\n",
       "      <th>XGBoost</th>\n",
       "      <td>0.774946</td>\n",
       "      <td>0.744695</td>\n",
       "      <td>0.807346</td>\n",
       "      <td>0.774233</td>\n",
       "      <td>0.750688</td>\n",
       "    </tr>\n",
       "    <tr>\n",
       "      <th>Stochastic-Gradient-Descent</th>\n",
       "      <td>0.771720</td>\n",
       "      <td>0.745304</td>\n",
       "      <td>0.818677</td>\n",
       "      <td>0.783859</td>\n",
       "      <td>0.740342</td>\n",
       "    </tr>\n",
       "    <tr>\n",
       "      <th>AdaBoost</th>\n",
       "      <td>0.787957</td>\n",
       "      <td>0.750477</td>\n",
       "      <td>0.818000</td>\n",
       "      <td>0.791566</td>\n",
       "      <td>0.757645</td>\n",
       "    </tr>\n",
       "    <tr>\n",
       "      <th>LightGBM</th>\n",
       "      <td>0.774731</td>\n",
       "      <td>0.746887</td>\n",
       "      <td>0.804924</td>\n",
       "      <td>0.767215</td>\n",
       "      <td>0.749682</td>\n",
       "    </tr>\n",
       "    <tr>\n",
       "      <th>catBoost</th>\n",
       "      <td>0.821075</td>\n",
       "      <td>0.761246</td>\n",
       "      <td>0.874998</td>\n",
       "      <td>0.850841</td>\n",
       "      <td>0.794105</td>\n",
       "    </tr>\n",
       "  </tbody>\n",
       "</table>\n",
       "</div>"
      ],
      "text/plain": [
       "                             accuracy    recall  specificity  precision  \\\n",
       "SVM                          0.811505  0.740189     0.880227   0.852992   \n",
       "Logistic Regression          0.840968  0.789960     0.887221   0.872508   \n",
       "NB                           0.817957  0.763939     0.871562   0.850665   \n",
       "KNN                          0.817742  0.767156     0.863526   0.835006   \n",
       "Dtree                        0.754624  0.726125     0.782931   0.736752   \n",
       "Random Forest                0.801290  0.752535     0.844374   0.808901   \n",
       "Multi-layer-Perceptron       0.804624  0.773030     0.839082   0.810716   \n",
       "XGBoost                      0.774946  0.744695     0.807346   0.774233   \n",
       "Stochastic-Gradient-Descent  0.771720  0.745304     0.818677   0.783859   \n",
       "AdaBoost                     0.787957  0.750477     0.818000   0.791566   \n",
       "LightGBM                     0.774731  0.746887     0.804924   0.767215   \n",
       "catBoost                     0.821075  0.761246     0.874998   0.850841   \n",
       "\n",
       "                                   F1  \n",
       "SVM                          0.780716  \n",
       "Logistic Regression          0.818907  \n",
       "NB                           0.793602  \n",
       "KNN                          0.793261  \n",
       "Dtree                        0.726571  \n",
       "Random Forest                0.771694  \n",
       "Multi-layer-Perceptron       0.782352  \n",
       "XGBoost                      0.750688  \n",
       "Stochastic-Gradient-Descent  0.740342  \n",
       "AdaBoost                     0.757645  \n",
       "LightGBM                     0.749682  \n",
       "catBoost                     0.794105  "
      ]
     },
     "execution_count": 58,
     "metadata": {},
     "output_type": "execute_result"
    }
   ],
   "source": [
    "algo={\n",
    "    'NB':MultinomialNB(alpha=1.0),\n",
    "    'Logistic Regression':LogisticRegression(),\n",
    "    'SVM':svm.SVC(kernel='poly',random_state=1),\n",
    "    'KNN':KNeighborsClassifier(n_neighbors=5),\n",
    "    'Dtree':DecisionTreeClassifier(),\n",
    "    'Random Forest':RandomForestClassifier(random_state=2),\n",
    "    'Multi-layer-Perceptron':MLPClassifier(solver='lbfgs', alpha=1e-5,random_state=3),\n",
    "    'XGBoost':xgb.XGBClassifier(objective=\"binary:logistic\", random_state=3),\n",
    "    'Stochastic-Gradient-Descent':SGDClassifier(loss=\"hinge\", penalty=\"l2\", max_iter=8),\n",
    "    'AdaBoost':AdaBoostClassifier(n_estimators=100, random_state=3),\n",
    "    'LightGBM ':LGBMClassifier(),\n",
    "    'catBoost':CatBoostClassifier(verbose=0, n_estimators=100),\n",
    "}\n",
    "\n",
    "\n",
    "\n",
    "\n",
    "df2_corr = df_correlation.drop(['target'], axis = 1)\n",
    "df_corr_col =df2_corr.columns\n",
    "result_beforeNorm=k_fold_results(df2_corr[df_corr_col],df['target'],algo=algo)\n",
    "result_beforeNorm.T\n",
    "\n",
    "\n"
   ]
  },
  {
   "cell_type": "code",
   "execution_count": 59,
   "id": "323e5cd0",
   "metadata": {},
   "outputs": [
    {
     "data": {
      "text/plain": [
       "array(['SVM', 'LR', 'NB', 'KNN', 'Dtree', 'RF', 'MLP', 'XGB', 'SGD',\n",
       "       'AdaBoost', 'LGBM', 'catBoost'], dtype=object)"
      ]
     },
     "execution_count": 59,
     "metadata": {},
     "output_type": "execute_result"
    }
   ],
   "source": [
    "res_Correlation=result_beforeNorm.T\n",
    "scores_Correlation = res_Correlation['accuracy'].values\n",
    "MLA"
   ]
  },
  {
   "cell_type": "code",
   "execution_count": 60,
   "id": "f4d5ecf2",
   "metadata": {},
   "outputs": [
    {
     "data": {
      "text/plain": [
       "<AxesSubplot:xlabel='Algorithms', ylabel='Accuracy score'>"
      ]
     },
     "execution_count": 60,
     "metadata": {},
     "output_type": "execute_result"
    },
    {
     "data": {
      "image/png": "[encoded data removed]",
      "text/plain": [
       "<Figure size 1080x576 with 1 Axes>"
      ]
     },
     "metadata": {},
     "output_type": "display_data"
    }
   ],
   "source": [
    "sns.set(rc={'figure.figsize':(15,8)})\n",
    "plt.xlabel(\"Algorithms\")\n",
    "plt.ylabel(\"Accuracy score\")\n",
    "sns.barplot(MLA,scores_Correlation)"
   ]
  },
  {
   "cell_type": "markdown",
   "id": "cf9f76b7",
   "metadata": {},
   "source": [
    "### variance threshold:"
   ]
  },
  {
   "cell_type": "code",
   "execution_count": 77,
   "id": "a55c74a3",
   "metadata": {},
   "outputs": [
    {
     "data": {
      "text/html": [
       "<div>\n",
       "<style scoped>\n",
       "    .dataframe tbody tr th:only-of-type {\n",
       "        vertical-align: middle;\n",
       "    }\n",
       "\n",
       "    .dataframe tbody tr th {\n",
       "        vertical-align: top;\n",
       "    }\n",
       "\n",
       "    .dataframe thead th {\n",
       "        text-align: right;\n",
       "    }\n",
       "</style>\n",
       "<table border=\"1\" class=\"dataframe\">\n",
       "  <thead>\n",
       "    <tr style=\"text-align: right;\">\n",
       "      <th></th>\n",
       "      <th>age</th>\n",
       "      <th>gender</th>\n",
       "      <th>cp</th>\n",
       "      <th>trestbps</th>\n",
       "      <th>chol</th>\n",
       "      <th>fbs</th>\n",
       "      <th>restecg</th>\n",
       "      <th>thalach</th>\n",
       "      <th>exang</th>\n",
       "      <th>oldpeak</th>\n",
       "      <th>slope</th>\n",
       "      <th>ca</th>\n",
       "      <th>thal</th>\n",
       "      <th>target</th>\n",
       "    </tr>\n",
       "  </thead>\n",
       "  <tbody>\n",
       "    <tr>\n",
       "      <th>0</th>\n",
       "      <td>0.791667</td>\n",
       "      <td>1</td>\n",
       "      <td>1.000000</td>\n",
       "      <td>0.622642</td>\n",
       "      <td>0.365297</td>\n",
       "      <td>0</td>\n",
       "      <td>1.0</td>\n",
       "      <td>0.282443</td>\n",
       "      <td>1</td>\n",
       "      <td>0.241935</td>\n",
       "      <td>0.5</td>\n",
       "      <td>1.000000</td>\n",
       "      <td>0.0</td>\n",
       "      <td>1</td>\n",
       "    </tr>\n",
       "    <tr>\n",
       "      <th>1</th>\n",
       "      <td>0.791667</td>\n",
       "      <td>1</td>\n",
       "      <td>1.000000</td>\n",
       "      <td>0.245283</td>\n",
       "      <td>0.235160</td>\n",
       "      <td>0</td>\n",
       "      <td>1.0</td>\n",
       "      <td>0.442748</td>\n",
       "      <td>1</td>\n",
       "      <td>0.419355</td>\n",
       "      <td>0.5</td>\n",
       "      <td>0.666667</td>\n",
       "      <td>1.0</td>\n",
       "      <td>1</td>\n",
       "    </tr>\n",
       "    <tr>\n",
       "      <th>2</th>\n",
       "      <td>0.166667</td>\n",
       "      <td>1</td>\n",
       "      <td>0.666667</td>\n",
       "      <td>0.339623</td>\n",
       "      <td>0.283105</td>\n",
       "      <td>0</td>\n",
       "      <td>0.0</td>\n",
       "      <td>0.885496</td>\n",
       "      <td>0</td>\n",
       "      <td>0.564516</td>\n",
       "      <td>1.0</td>\n",
       "      <td>0.000000</td>\n",
       "      <td>0.0</td>\n",
       "      <td>0</td>\n",
       "    </tr>\n",
       "    <tr>\n",
       "      <th>3</th>\n",
       "      <td>0.250000</td>\n",
       "      <td>0</td>\n",
       "      <td>0.333333</td>\n",
       "      <td>0.339623</td>\n",
       "      <td>0.178082</td>\n",
       "      <td>0</td>\n",
       "      <td>1.0</td>\n",
       "      <td>0.770992</td>\n",
       "      <td>0</td>\n",
       "      <td>0.225806</td>\n",
       "      <td>0.0</td>\n",
       "      <td>0.000000</td>\n",
       "      <td>0.0</td>\n",
       "      <td>0</td>\n",
       "    </tr>\n",
       "    <tr>\n",
       "      <th>4</th>\n",
       "      <td>0.562500</td>\n",
       "      <td>1</td>\n",
       "      <td>0.333333</td>\n",
       "      <td>0.245283</td>\n",
       "      <td>0.251142</td>\n",
       "      <td>0</td>\n",
       "      <td>0.0</td>\n",
       "      <td>0.816794</td>\n",
       "      <td>0</td>\n",
       "      <td>0.129032</td>\n",
       "      <td>0.0</td>\n",
       "      <td>0.000000</td>\n",
       "      <td>0.0</td>\n",
       "      <td>0</td>\n",
       "    </tr>\n",
       "  </tbody>\n",
       "</table>\n",
       "</div>"
      ],
      "text/plain": [
       "        age  gender        cp  trestbps      chol  fbs  restecg   thalach  \\\n",
       "0  0.791667       1  1.000000  0.622642  0.365297    0      1.0  0.282443   \n",
       "1  0.791667       1  1.000000  0.245283  0.235160    0      1.0  0.442748   \n",
       "2  0.166667       1  0.666667  0.339623  0.283105    0      0.0  0.885496   \n",
       "3  0.250000       0  0.333333  0.339623  0.178082    0      1.0  0.770992   \n",
       "4  0.562500       1  0.333333  0.245283  0.251142    0      0.0  0.816794   \n",
       "\n",
       "   exang   oldpeak  slope        ca  thal  target  \n",
       "0      1  0.241935    0.5  1.000000   0.0       1  \n",
       "1      1  0.419355    0.5  0.666667   1.0       1  \n",
       "2      0  0.564516    1.0  0.000000   0.0       0  \n",
       "3      0  0.225806    0.0  0.000000   0.0       0  \n",
       "4      0  0.129032    0.0  0.000000   0.0       0  "
      ]
     },
     "execution_count": 77,
     "metadata": {},
     "output_type": "execute_result"
    }
   ],
   "source": [
    "df_minmax.head()"
   ]
  },
  {
   "cell_type": "code",
   "execution_count": 101,
   "id": "cd37b38a",
   "metadata": {},
   "outputs": [
    {
     "data": {
      "text/plain": [
       "array([False,  True,  True, False, False,  True,  True, False,  True,\n",
       "       False,  True,  True,  True,  True])"
      ]
     },
     "execution_count": 101,
     "metadata": {},
     "output_type": "execute_result"
    }
   ],
   "source": [
    "VarThreshOld = VarianceThreshold(threshold=0.04)\n",
    "VarThreshOld.fit(df_minmax)\n",
    "temp=VarThreshOld.get_support()\n",
    "temp\n"
   ]
  },
  {
   "cell_type": "code",
   "execution_count": 102,
   "id": "9a5283fe",
   "metadata": {},
   "outputs": [
    {
     "data": {
      "text/plain": [
       "Index(['age', 'gender', 'cp', 'trestbps', 'chol', 'fbs', 'restecg', 'thalach',\n",
       "       'exang', 'oldpeak', 'slope', 'ca', 'thal', 'target'],\n",
       "      dtype='object')"
      ]
     },
     "execution_count": 102,
     "metadata": {},
     "output_type": "execute_result"
    }
   ],
   "source": [
    "df_minmax_columns = df_minmax.columns\n",
    "df_minmax_columns"
   ]
  },
  {
   "cell_type": "code",
   "execution_count": 103,
   "id": "99e7e533",
   "metadata": {},
   "outputs": [
    {
     "data": {
      "text/plain": [
       "['gender', 'cp', 'fbs', 'restecg', 'exang', 'slope', 'ca', 'thal', 'target']"
      ]
     },
     "execution_count": 103,
     "metadata": {},
     "output_type": "execute_result"
    }
   ],
   "source": [
    "df_select_ThreshOld=[]\n",
    "for index in range(0,len(temp)):\n",
    "    if (temp[index]==True):\n",
    "        df_select_ThreshOld.append(df_minmax_columns[index])\n",
    "       \n",
    "df_select_ThreshOld"
   ]
  },
  {
   "cell_type": "code",
   "execution_count": 104,
   "id": "3a47f5f2",
   "metadata": {},
   "outputs": [
    {
     "data": {
      "text/html": [
       "<div>\n",
       "<style scoped>\n",
       "    .dataframe tbody tr th:only-of-type {\n",
       "        vertical-align: middle;\n",
       "    }\n",
       "\n",
       "    .dataframe tbody tr th {\n",
       "        vertical-align: top;\n",
       "    }\n",
       "\n",
       "    .dataframe thead th {\n",
       "        text-align: right;\n",
       "    }\n",
       "</style>\n",
       "<table border=\"1\" class=\"dataframe\">\n",
       "  <thead>\n",
       "    <tr style=\"text-align: right;\">\n",
       "      <th></th>\n",
       "      <th>gender</th>\n",
       "      <th>cp</th>\n",
       "      <th>fbs</th>\n",
       "      <th>restecg</th>\n",
       "      <th>exang</th>\n",
       "      <th>slope</th>\n",
       "      <th>ca</th>\n",
       "      <th>thal</th>\n",
       "      <th>target</th>\n",
       "    </tr>\n",
       "  </thead>\n",
       "  <tbody>\n",
       "    <tr>\n",
       "      <th>0</th>\n",
       "      <td>1</td>\n",
       "      <td>1.000000</td>\n",
       "      <td>0</td>\n",
       "      <td>1.0</td>\n",
       "      <td>1</td>\n",
       "      <td>0.5</td>\n",
       "      <td>1.000000</td>\n",
       "      <td>0.0</td>\n",
       "      <td>1</td>\n",
       "    </tr>\n",
       "    <tr>\n",
       "      <th>1</th>\n",
       "      <td>1</td>\n",
       "      <td>1.000000</td>\n",
       "      <td>0</td>\n",
       "      <td>1.0</td>\n",
       "      <td>1</td>\n",
       "      <td>0.5</td>\n",
       "      <td>0.666667</td>\n",
       "      <td>1.0</td>\n",
       "      <td>1</td>\n",
       "    </tr>\n",
       "    <tr>\n",
       "      <th>2</th>\n",
       "      <td>1</td>\n",
       "      <td>0.666667</td>\n",
       "      <td>0</td>\n",
       "      <td>0.0</td>\n",
       "      <td>0</td>\n",
       "      <td>1.0</td>\n",
       "      <td>0.000000</td>\n",
       "      <td>0.0</td>\n",
       "      <td>0</td>\n",
       "    </tr>\n",
       "    <tr>\n",
       "      <th>3</th>\n",
       "      <td>0</td>\n",
       "      <td>0.333333</td>\n",
       "      <td>0</td>\n",
       "      <td>1.0</td>\n",
       "      <td>0</td>\n",
       "      <td>0.0</td>\n",
       "      <td>0.000000</td>\n",
       "      <td>0.0</td>\n",
       "      <td>0</td>\n",
       "    </tr>\n",
       "    <tr>\n",
       "      <th>4</th>\n",
       "      <td>1</td>\n",
       "      <td>0.333333</td>\n",
       "      <td>0</td>\n",
       "      <td>0.0</td>\n",
       "      <td>0</td>\n",
       "      <td>0.0</td>\n",
       "      <td>0.000000</td>\n",
       "      <td>0.0</td>\n",
       "      <td>0</td>\n",
       "    </tr>\n",
       "  </tbody>\n",
       "</table>\n",
       "</div>"
      ],
      "text/plain": [
       "   gender        cp  fbs  restecg  exang  slope        ca  thal  target\n",
       "0       1  1.000000    0      1.0      1    0.5  1.000000   0.0       1\n",
       "1       1  1.000000    0      1.0      1    0.5  0.666667   1.0       1\n",
       "2       1  0.666667    0      0.0      0    1.0  0.000000   0.0       0\n",
       "3       0  0.333333    0      1.0      0    0.0  0.000000   0.0       0\n",
       "4       1  0.333333    0      0.0      0    0.0  0.000000   0.0       0"
      ]
     },
     "execution_count": 104,
     "metadata": {},
     "output_type": "execute_result"
    }
   ],
   "source": [
    "df_ThreshOld = df_minmax.copy()\n",
    "df_ThreshOld = df_ThreshOld[df_select_ThreshOld]\n",
    "df_ThreshOld.head()"
   ]
  },
  {
   "cell_type": "code",
   "execution_count": 105,
   "id": "ad14bc31",
   "metadata": {},
   "outputs": [
    {
     "name": "stdout",
     "output_type": "stream",
     "text": [
      "The number of features resulting from the 'variance threshold': 9\n"
     ]
    }
   ],
   "source": [
    "print(\"The number of features resulting from the 'variance threshold':\",len(df_ThreshOld.columns))"
   ]
  },
  {
   "cell_type": "markdown",
   "id": "d7751390",
   "metadata": {},
   "source": [
    "## Check the output of the algorithms for df_ThreshOld (output of variance threshold) :"
   ]
  },
  {
   "cell_type": "code",
   "execution_count": 106,
   "id": "17ad93b6",
   "metadata": {},
   "outputs": [
    {
     "data": {
      "text/html": [
       "<div>\n",
       "<style scoped>\n",
       "    .dataframe tbody tr th:only-of-type {\n",
       "        vertical-align: middle;\n",
       "    }\n",
       "\n",
       "    .dataframe tbody tr th {\n",
       "        vertical-align: top;\n",
       "    }\n",
       "\n",
       "    .dataframe thead th {\n",
       "        text-align: right;\n",
       "    }\n",
       "</style>\n",
       "<table border=\"1\" class=\"dataframe\">\n",
       "  <thead>\n",
       "    <tr style=\"text-align: right;\">\n",
       "      <th></th>\n",
       "      <th>accuracy</th>\n",
       "      <th>recall</th>\n",
       "      <th>specificity</th>\n",
       "      <th>precision</th>\n",
       "      <th>F1</th>\n",
       "    </tr>\n",
       "  </thead>\n",
       "  <tbody>\n",
       "    <tr>\n",
       "      <th>SVM</th>\n",
       "      <td>0.807634</td>\n",
       "      <td>0.772157</td>\n",
       "      <td>0.843326</td>\n",
       "      <td>0.797227</td>\n",
       "      <td>0.777614</td>\n",
       "    </tr>\n",
       "    <tr>\n",
       "      <th>Logistic Regression</th>\n",
       "      <td>0.837634</td>\n",
       "      <td>0.789318</td>\n",
       "      <td>0.881338</td>\n",
       "      <td>0.857073</td>\n",
       "      <td>0.811398</td>\n",
       "    </tr>\n",
       "    <tr>\n",
       "      <th>NB</th>\n",
       "      <td>0.745806</td>\n",
       "      <td>0.678768</td>\n",
       "      <td>0.812965</td>\n",
       "      <td>0.750569</td>\n",
       "      <td>0.700652</td>\n",
       "    </tr>\n",
       "    <tr>\n",
       "      <th>KNN</th>\n",
       "      <td>0.797957</td>\n",
       "      <td>0.772920</td>\n",
       "      <td>0.821498</td>\n",
       "      <td>0.793587</td>\n",
       "      <td>0.774897</td>\n",
       "    </tr>\n",
       "    <tr>\n",
       "      <th>Dtree</th>\n",
       "      <td>0.790968</td>\n",
       "      <td>0.751395</td>\n",
       "      <td>0.818268</td>\n",
       "      <td>0.789705</td>\n",
       "      <td>0.765792</td>\n",
       "    </tr>\n",
       "    <tr>\n",
       "      <th>Random Forest</th>\n",
       "      <td>0.800968</td>\n",
       "      <td>0.789202</td>\n",
       "      <td>0.817970</td>\n",
       "      <td>0.787960</td>\n",
       "      <td>0.784101</td>\n",
       "    </tr>\n",
       "    <tr>\n",
       "      <th>Multi-layer-Perceptron</th>\n",
       "      <td>0.754839</td>\n",
       "      <td>0.725599</td>\n",
       "      <td>0.791557</td>\n",
       "      <td>0.745398</td>\n",
       "      <td>0.726441</td>\n",
       "    </tr>\n",
       "    <tr>\n",
       "      <th>XGBoost</th>\n",
       "      <td>0.791183</td>\n",
       "      <td>0.744960</td>\n",
       "      <td>0.835256</td>\n",
       "      <td>0.785311</td>\n",
       "      <td>0.758831</td>\n",
       "    </tr>\n",
       "    <tr>\n",
       "      <th>Stochastic-Gradient-Descent</th>\n",
       "      <td>0.774409</td>\n",
       "      <td>0.775108</td>\n",
       "      <td>0.776854</td>\n",
       "      <td>0.789801</td>\n",
       "      <td>0.729475</td>\n",
       "    </tr>\n",
       "    <tr>\n",
       "      <th>AdaBoost</th>\n",
       "      <td>0.820860</td>\n",
       "      <td>0.789723</td>\n",
       "      <td>0.844666</td>\n",
       "      <td>0.817582</td>\n",
       "      <td>0.791514</td>\n",
       "    </tr>\n",
       "    <tr>\n",
       "      <th>LightGBM</th>\n",
       "      <td>0.847204</td>\n",
       "      <td>0.796012</td>\n",
       "      <td>0.889735</td>\n",
       "      <td>0.855285</td>\n",
       "      <td>0.814798</td>\n",
       "    </tr>\n",
       "    <tr>\n",
       "      <th>catBoost</th>\n",
       "      <td>0.830968</td>\n",
       "      <td>0.795223</td>\n",
       "      <td>0.865256</td>\n",
       "      <td>0.830362</td>\n",
       "      <td>0.804304</td>\n",
       "    </tr>\n",
       "  </tbody>\n",
       "</table>\n",
       "</div>"
      ],
      "text/plain": [
       "                             accuracy    recall  specificity  precision  \\\n",
       "SVM                          0.807634  0.772157     0.843326   0.797227   \n",
       "Logistic Regression          0.837634  0.789318     0.881338   0.857073   \n",
       "NB                           0.745806  0.678768     0.812965   0.750569   \n",
       "KNN                          0.797957  0.772920     0.821498   0.793587   \n",
       "Dtree                        0.790968  0.751395     0.818268   0.789705   \n",
       "Random Forest                0.800968  0.789202     0.817970   0.787960   \n",
       "Multi-layer-Perceptron       0.754839  0.725599     0.791557   0.745398   \n",
       "XGBoost                      0.791183  0.744960     0.835256   0.785311   \n",
       "Stochastic-Gradient-Descent  0.774409  0.775108     0.776854   0.789801   \n",
       "AdaBoost                     0.820860  0.789723     0.844666   0.817582   \n",
       "LightGBM                     0.847204  0.796012     0.889735   0.855285   \n",
       "catBoost                     0.830968  0.795223     0.865256   0.830362   \n",
       "\n",
       "                                   F1  \n",
       "SVM                          0.777614  \n",
       "Logistic Regression          0.811398  \n",
       "NB                           0.700652  \n",
       "KNN                          0.774897  \n",
       "Dtree                        0.765792  \n",
       "Random Forest                0.784101  \n",
       "Multi-layer-Perceptron       0.726441  \n",
       "XGBoost                      0.758831  \n",
       "Stochastic-Gradient-Descent  0.729475  \n",
       "AdaBoost                     0.791514  \n",
       "LightGBM                     0.814798  \n",
       "catBoost                     0.804304  "
      ]
     },
     "execution_count": 106,
     "metadata": {},
     "output_type": "execute_result"
    }
   ],
   "source": [
    "algo={\n",
    "    'NB':MultinomialNB(alpha=1.0),\n",
    "    'Logistic Regression':LogisticRegression(),\n",
    "    'SVM':svm.SVC(kernel='poly',random_state=1),\n",
    "    'KNN':KNeighborsClassifier(n_neighbors=5),\n",
    "    'Dtree':DecisionTreeClassifier(),\n",
    "    'Random Forest':RandomForestClassifier(random_state=2),\n",
    "    'Multi-layer-Perceptron':MLPClassifier(solver='lbfgs', alpha=1e-5,random_state=3),\n",
    "    'XGBoost':xgb.XGBClassifier(objective=\"binary:logistic\", random_state=3),\n",
    "    'Stochastic-Gradient-Descent':SGDClassifier(loss=\"hinge\", penalty=\"l2\", max_iter=8),\n",
    "    'AdaBoost':AdaBoostClassifier(n_estimators=100, random_state=3),\n",
    "    'LightGBM ':LGBMClassifier(),\n",
    "    'catBoost':CatBoostClassifier(verbose=0, n_estimators=100),\n",
    "}\n",
    "\n",
    "\n",
    "\n",
    "\n",
    "df2_to = df_ThreshOld.drop(['target'], axis = 1)\n",
    "df_to_col =df2_to.columns\n",
    "result_beforeNorm=k_fold_results(df2_to[df_to_col],df['target'],algo=algo)\n",
    "result_beforeNorm.T"
   ]
  },
  {
   "cell_type": "code",
   "execution_count": 107,
   "id": "8fee200c",
   "metadata": {},
   "outputs": [],
   "source": [
    "res_ThreshOld=result_beforeNorm.T\n",
    "scores_ThreshOld = res_ThreshOld['accuracy'].values"
   ]
  },
  {
   "cell_type": "code",
   "execution_count": 108,
   "id": "16777e9f",
   "metadata": {},
   "outputs": [
    {
     "data": {
      "text/plain": [
       "<AxesSubplot:xlabel='Algorithms', ylabel='Accuracy score'>"
      ]
     },
     "execution_count": 108,
     "metadata": {},
     "output_type": "execute_result"
    },
    {
     "data": {
      "image/png": "[encoded data removed]",
      "text/plain": [
       "<Figure size 1080x576 with 1 Axes>"
      ]
     },
     "metadata": {},
     "output_type": "display_data"
    }
   ],
   "source": [
    "sns.set(rc={'figure.figsize':(15,8)})\n",
    "plt.xlabel(\"Algorithms\")\n",
    "plt.ylabel(\"Accuracy score\")\n",
    "sns.barplot(MLA,scores_ThreshOld)"
   ]
  },
  {
   "cell_type": "markdown",
   "id": "c755901f",
   "metadata": {},
   "source": [
    "### Recursive feature elimination(RFE):"
   ]
  },
  {
   "cell_type": "code",
   "execution_count": 109,
   "id": "a37b6430",
   "metadata": {},
   "outputs": [],
   "source": [
    "predictors_minmax = df_minmax.drop(\"target\",axis=1)\n",
    "target_minmax = df_minmax[\"target\"]\n",
    "\n",
    "X_train_minmax ,X_test_minmax ,y_train_minmax ,y_test_minmax = train_test_split(predictors_minmax,target_minmax,test_size=0.30,random_state=0)"
   ]
  },
  {
   "cell_type": "code",
   "execution_count": 110,
   "id": "bb29aef6",
   "metadata": {},
   "outputs": [
    {
     "data": {
      "text/plain": [
       "Index(['age', 'gender', 'cp', 'trestbps', 'chol', 'fbs', 'restecg', 'thalach',\n",
       "       'exang', 'oldpeak', 'slope', 'ca', 'thal'],\n",
       "      dtype='object')"
      ]
     },
     "execution_count": 110,
     "metadata": {},
     "output_type": "execute_result"
    }
   ],
   "source": [
    "df_minmax_col = df_minmax.columns.drop('target')\n",
    "df_minmax_col"
   ]
  },
  {
   "cell_type": "code",
   "execution_count": 123,
   "id": "9326dc9a",
   "metadata": {},
   "outputs": [
    {
     "name": "stdout",
     "output_type": "stream",
     "text": [
      "Num Features: 6\n",
      "Selected Features: [False False  True  True False False False  True False  True False  True\n",
      "  True]\n",
      "Feature Ranking: [6 2 1 1 8 5 3 1 4 1 7 1 1]\n"
     ]
    }
   ],
   "source": [
    "from sklearn import datasets\n",
    "from sklearn.model_selection import train_test_split\n",
    "from sklearn.linear_model import LinearRegression\n",
    "\n",
    "from sklearn.feature_selection import RFE\n",
    "from sklearn.feature_selection import RFECV\n",
    "lin_reg = LinearRegression()\n",
    "\n",
    "rfe_mod = RFECV(lin_reg,cv=10) \n",
    "myvalues=rfe_mod.fit(X_train_minmax,y_train_minmax) \n",
    "myvalues.support_\n",
    "myvalues.ranking_ \n",
    "\n",
    "print(\"Num Features: %s\" % (myvalues.n_features_))\n",
    "print(\"Selected Features: %s\" % (myvalues.support_))\n",
    "print(\"Feature Ranking: %s\" % (myvalues.ranking_))  "
   ]
  },
  {
   "cell_type": "code",
   "execution_count": 124,
   "id": "63f06358",
   "metadata": {},
   "outputs": [
    {
     "data": {
      "text/plain": [
       "array([False, False,  True,  True, False, False, False,  True, False,\n",
       "        True, False,  True,  True])"
      ]
     },
     "execution_count": 124,
     "metadata": {},
     "output_type": "execute_result"
    }
   ],
   "source": [
    "myvalues.support_"
   ]
  },
  {
   "cell_type": "code",
   "execution_count": 125,
   "id": "33f35765",
   "metadata": {},
   "outputs": [
    {
     "data": {
      "text/html": [
       "<div>\n",
       "<style scoped>\n",
       "    .dataframe tbody tr th:only-of-type {\n",
       "        vertical-align: middle;\n",
       "    }\n",
       "\n",
       "    .dataframe tbody tr th {\n",
       "        vertical-align: top;\n",
       "    }\n",
       "\n",
       "    .dataframe thead th {\n",
       "        text-align: right;\n",
       "    }\n",
       "</style>\n",
       "<table border=\"1\" class=\"dataframe\">\n",
       "  <thead>\n",
       "    <tr style=\"text-align: right;\">\n",
       "      <th></th>\n",
       "      <th>cp</th>\n",
       "      <th>trestbps</th>\n",
       "      <th>thalach</th>\n",
       "      <th>oldpeak</th>\n",
       "      <th>ca</th>\n",
       "      <th>thal</th>\n",
       "      <th>target</th>\n",
       "    </tr>\n",
       "  </thead>\n",
       "  <tbody>\n",
       "    <tr>\n",
       "      <th>0</th>\n",
       "      <td>1.000000</td>\n",
       "      <td>0.622642</td>\n",
       "      <td>0.282443</td>\n",
       "      <td>0.241935</td>\n",
       "      <td>1.000000</td>\n",
       "      <td>0.0</td>\n",
       "      <td>1</td>\n",
       "    </tr>\n",
       "    <tr>\n",
       "      <th>1</th>\n",
       "      <td>1.000000</td>\n",
       "      <td>0.245283</td>\n",
       "      <td>0.442748</td>\n",
       "      <td>0.419355</td>\n",
       "      <td>0.666667</td>\n",
       "      <td>1.0</td>\n",
       "      <td>1</td>\n",
       "    </tr>\n",
       "    <tr>\n",
       "      <th>2</th>\n",
       "      <td>0.666667</td>\n",
       "      <td>0.339623</td>\n",
       "      <td>0.885496</td>\n",
       "      <td>0.564516</td>\n",
       "      <td>0.000000</td>\n",
       "      <td>0.0</td>\n",
       "      <td>0</td>\n",
       "    </tr>\n",
       "    <tr>\n",
       "      <th>3</th>\n",
       "      <td>0.333333</td>\n",
       "      <td>0.339623</td>\n",
       "      <td>0.770992</td>\n",
       "      <td>0.225806</td>\n",
       "      <td>0.000000</td>\n",
       "      <td>0.0</td>\n",
       "      <td>0</td>\n",
       "    </tr>\n",
       "    <tr>\n",
       "      <th>4</th>\n",
       "      <td>0.333333</td>\n",
       "      <td>0.245283</td>\n",
       "      <td>0.816794</td>\n",
       "      <td>0.129032</td>\n",
       "      <td>0.000000</td>\n",
       "      <td>0.0</td>\n",
       "      <td>0</td>\n",
       "    </tr>\n",
       "  </tbody>\n",
       "</table>\n",
       "</div>"
      ],
      "text/plain": [
       "         cp  trestbps   thalach   oldpeak        ca  thal  target\n",
       "0  1.000000  0.622642  0.282443  0.241935  1.000000   0.0       1\n",
       "1  1.000000  0.245283  0.442748  0.419355  0.666667   1.0       1\n",
       "2  0.666667  0.339623  0.885496  0.564516  0.000000   0.0       0\n",
       "3  0.333333  0.339623  0.770992  0.225806  0.000000   0.0       0\n",
       "4  0.333333  0.245283  0.816794  0.129032  0.000000   0.0       0"
      ]
     },
     "execution_count": 125,
     "metadata": {},
     "output_type": "execute_result"
    }
   ],
   "source": [
    "df_select_rfe = []\n",
    "for i in range(0,len(myvalues.support_)):\n",
    "    if(myvalues.support_[i]==True):\n",
    "        df_select_rfe.append(df_minmax_columns[i])\n",
    "df_select_rfe.append('target')\n",
    "df_rfe = df_minmax.copy()\n",
    "df_rfe = df_rfe[df_select_rfe]\n",
    "df_rfe.head()"
   ]
  },
  {
   "cell_type": "markdown",
   "id": "41dfac07",
   "metadata": {},
   "source": [
    "## Check the output of the algorithms for df_rfe (output of RFE):"
   ]
  },
  {
   "cell_type": "code",
   "execution_count": 126,
   "id": "e12f6a5b",
   "metadata": {},
   "outputs": [
    {
     "data": {
      "text/html": [
       "<div>\n",
       "<style scoped>\n",
       "    .dataframe tbody tr th:only-of-type {\n",
       "        vertical-align: middle;\n",
       "    }\n",
       "\n",
       "    .dataframe tbody tr th {\n",
       "        vertical-align: top;\n",
       "    }\n",
       "\n",
       "    .dataframe thead th {\n",
       "        text-align: right;\n",
       "    }\n",
       "</style>\n",
       "<table border=\"1\" class=\"dataframe\">\n",
       "  <thead>\n",
       "    <tr style=\"text-align: right;\">\n",
       "      <th></th>\n",
       "      <th>accuracy</th>\n",
       "      <th>recall</th>\n",
       "      <th>specificity</th>\n",
       "      <th>precision</th>\n",
       "      <th>F1</th>\n",
       "    </tr>\n",
       "  </thead>\n",
       "  <tbody>\n",
       "    <tr>\n",
       "      <th>SVM</th>\n",
       "      <td>0.798172</td>\n",
       "      <td>0.732881</td>\n",
       "      <td>0.861665</td>\n",
       "      <td>0.823119</td>\n",
       "      <td>0.766745</td>\n",
       "    </tr>\n",
       "    <tr>\n",
       "      <th>Logistic Regression</th>\n",
       "      <td>0.824516</td>\n",
       "      <td>0.794433</td>\n",
       "      <td>0.856109</td>\n",
       "      <td>0.833953</td>\n",
       "      <td>0.806125</td>\n",
       "    </tr>\n",
       "    <tr>\n",
       "      <th>NB</th>\n",
       "      <td>0.798172</td>\n",
       "      <td>0.768144</td>\n",
       "      <td>0.836694</td>\n",
       "      <td>0.806967</td>\n",
       "      <td>0.777256</td>\n",
       "    </tr>\n",
       "    <tr>\n",
       "      <th>KNN</th>\n",
       "      <td>0.801398</td>\n",
       "      <td>0.752124</td>\n",
       "      <td>0.851304</td>\n",
       "      <td>0.819540</td>\n",
       "      <td>0.773113</td>\n",
       "    </tr>\n",
       "    <tr>\n",
       "      <th>Dtree</th>\n",
       "      <td>0.735054</td>\n",
       "      <td>0.705367</td>\n",
       "      <td>0.765602</td>\n",
       "      <td>0.718741</td>\n",
       "      <td>0.704606</td>\n",
       "    </tr>\n",
       "    <tr>\n",
       "      <th>Random Forest</th>\n",
       "      <td>0.774946</td>\n",
       "      <td>0.728291</td>\n",
       "      <td>0.821625</td>\n",
       "      <td>0.778149</td>\n",
       "      <td>0.744310</td>\n",
       "    </tr>\n",
       "    <tr>\n",
       "      <th>Multi-layer-Perceptron</th>\n",
       "      <td>0.728280</td>\n",
       "      <td>0.716746</td>\n",
       "      <td>0.750937</td>\n",
       "      <td>0.705763</td>\n",
       "      <td>0.701711</td>\n",
       "    </tr>\n",
       "    <tr>\n",
       "      <th>XGBoost</th>\n",
       "      <td>0.751720</td>\n",
       "      <td>0.735599</td>\n",
       "      <td>0.769598</td>\n",
       "      <td>0.741110</td>\n",
       "      <td>0.730778</td>\n",
       "    </tr>\n",
       "    <tr>\n",
       "      <th>Stochastic-Gradient-Descent</th>\n",
       "      <td>0.785269</td>\n",
       "      <td>0.692953</td>\n",
       "      <td>0.866524</td>\n",
       "      <td>0.848980</td>\n",
       "      <td>0.741384</td>\n",
       "    </tr>\n",
       "    <tr>\n",
       "      <th>AdaBoost</th>\n",
       "      <td>0.774839</td>\n",
       "      <td>0.735592</td>\n",
       "      <td>0.813686</td>\n",
       "      <td>0.767947</td>\n",
       "      <td>0.744748</td>\n",
       "    </tr>\n",
       "    <tr>\n",
       "      <th>LightGBM</th>\n",
       "      <td>0.781720</td>\n",
       "      <td>0.730072</td>\n",
       "      <td>0.831333</td>\n",
       "      <td>0.793580</td>\n",
       "      <td>0.752999</td>\n",
       "    </tr>\n",
       "    <tr>\n",
       "      <th>catBoost</th>\n",
       "      <td>0.824624</td>\n",
       "      <td>0.754053</td>\n",
       "      <td>0.893103</td>\n",
       "      <td>0.869971</td>\n",
       "      <td>0.797868</td>\n",
       "    </tr>\n",
       "  </tbody>\n",
       "</table>\n",
       "</div>"
      ],
      "text/plain": [
       "                             accuracy    recall  specificity  precision  \\\n",
       "SVM                          0.798172  0.732881     0.861665   0.823119   \n",
       "Logistic Regression          0.824516  0.794433     0.856109   0.833953   \n",
       "NB                           0.798172  0.768144     0.836694   0.806967   \n",
       "KNN                          0.801398  0.752124     0.851304   0.819540   \n",
       "Dtree                        0.735054  0.705367     0.765602   0.718741   \n",
       "Random Forest                0.774946  0.728291     0.821625   0.778149   \n",
       "Multi-layer-Perceptron       0.728280  0.716746     0.750937   0.705763   \n",
       "XGBoost                      0.751720  0.735599     0.769598   0.741110   \n",
       "Stochastic-Gradient-Descent  0.785269  0.692953     0.866524   0.848980   \n",
       "AdaBoost                     0.774839  0.735592     0.813686   0.767947   \n",
       "LightGBM                     0.781720  0.730072     0.831333   0.793580   \n",
       "catBoost                     0.824624  0.754053     0.893103   0.869971   \n",
       "\n",
       "                                   F1  \n",
       "SVM                          0.766745  \n",
       "Logistic Regression          0.806125  \n",
       "NB                           0.777256  \n",
       "KNN                          0.773113  \n",
       "Dtree                        0.704606  \n",
       "Random Forest                0.744310  \n",
       "Multi-layer-Perceptron       0.701711  \n",
       "XGBoost                      0.730778  \n",
       "Stochastic-Gradient-Descent  0.741384  \n",
       "AdaBoost                     0.744748  \n",
       "LightGBM                     0.752999  \n",
       "catBoost                     0.797868  "
      ]
     },
     "execution_count": 126,
     "metadata": {},
     "output_type": "execute_result"
    }
   ],
   "source": [
    "algo={\n",
    "    'NB':MultinomialNB(alpha=1.0),\n",
    "    'Logistic Regression':LogisticRegression(),\n",
    "    'SVM':svm.SVC(kernel='poly',random_state=1),\n",
    "    'KNN':KNeighborsClassifier(n_neighbors=5),\n",
    "    'Dtree':DecisionTreeClassifier(),\n",
    "    'Random Forest':RandomForestClassifier(random_state=2),\n",
    "    'Multi-layer-Perceptron':MLPClassifier(solver='lbfgs', alpha=1e-5,random_state=3),\n",
    "    'XGBoost':xgb.XGBClassifier(objective=\"binary:logistic\", random_state=3),\n",
    "    'Stochastic-Gradient-Descent':SGDClassifier(loss=\"hinge\", penalty=\"l2\", max_iter=8),\n",
    "    'AdaBoost':AdaBoostClassifier(n_estimators=100, random_state=3),\n",
    "    'LightGBM ':LGBMClassifier(),\n",
    "    'catBoost':CatBoostClassifier(verbose=0, n_estimators=100),\n",
    "}\n",
    "\n",
    "\n",
    "\n",
    "df2_rfe = df_rfe.drop(['target'], axis = 1)\n",
    "df_rfe_col =df2_rfe.columns\n",
    "result_beforeNorm=k_fold_results(df2_rfe[df_rfe_col],df['target'],algo=algo)\n",
    "result_beforeNorm.T"
   ]
  },
  {
   "cell_type": "code",
   "execution_count": 127,
   "id": "a5c8f86f",
   "metadata": {},
   "outputs": [],
   "source": [
    "res_rfe = result_beforeNorm.T\n",
    "scores_rfe = res_rfe['accuracy'].values"
   ]
  },
  {
   "cell_type": "code",
   "execution_count": 128,
   "id": "1265a17f",
   "metadata": {},
   "outputs": [
    {
     "data": {
      "text/plain": [
       "<AxesSubplot:xlabel='Algorithms', ylabel='Accuracy score'>"
      ]
     },
     "execution_count": 128,
     "metadata": {},
     "output_type": "execute_result"
    },
    {
     "data": {
      "image/png": "[encoded data removed]",
      "text/plain": [
       "<Figure size 1080x576 with 1 Axes>"
      ]
     },
     "metadata": {},
     "output_type": "display_data"
    }
   ],
   "source": [
    "sns.set(rc={'figure.figsize':(15,8)})\n",
    "plt.xlabel(\"Algorithms\")\n",
    "plt.ylabel(\"Accuracy score\")\n",
    "sns.barplot(MLA,scores_rfe)"
   ]
  },
  {
   "cell_type": "markdown",
   "id": "34c8c746",
   "metadata": {},
   "source": [
    "### Forward:"
   ]
  },
  {
   "cell_type": "code",
   "execution_count": 129,
   "id": "6e9ca325",
   "metadata": {},
   "outputs": [
    {
     "data": {
      "text/plain": [
       "Index(['age', 'gender', 'cp', 'trestbps', 'chol', 'fbs', 'restecg', 'thalach',\n",
       "       'exang', 'oldpeak', 'slope', 'ca', 'thal'],\n",
       "      dtype='object')"
      ]
     },
     "execution_count": 129,
     "metadata": {},
     "output_type": "execute_result"
    }
   ],
   "source": [
    "df_minmax_col"
   ]
  },
  {
   "cell_type": "code",
   "execution_count": 130,
   "id": "874f2a47",
   "metadata": {},
   "outputs": [
    {
     "data": {
      "text/html": [
       "<div>\n",
       "<style scoped>\n",
       "    .dataframe tbody tr th:only-of-type {\n",
       "        vertical-align: middle;\n",
       "    }\n",
       "\n",
       "    .dataframe tbody tr th {\n",
       "        vertical-align: top;\n",
       "    }\n",
       "\n",
       "    .dataframe thead th {\n",
       "        text-align: right;\n",
       "    }\n",
       "</style>\n",
       "<table border=\"1\" class=\"dataframe\">\n",
       "  <thead>\n",
       "    <tr style=\"text-align: right;\">\n",
       "      <th></th>\n",
       "      <th>feature_idx</th>\n",
       "      <th>cv_scores</th>\n",
       "      <th>avg_score</th>\n",
       "      <th>feature_names</th>\n",
       "      <th>ci_bound</th>\n",
       "      <th>std_dev</th>\n",
       "      <th>std_err</th>\n",
       "    </tr>\n",
       "  </thead>\n",
       "  <tbody>\n",
       "    <tr>\n",
       "      <th>1</th>\n",
       "      <td>(12,)</td>\n",
       "      <td>[0.8032786885245902, 0.8524590163934426, 0.716...</td>\n",
       "      <td>0.767814</td>\n",
       "      <td>(thal,)</td>\n",
       "      <td>0.085846</td>\n",
       "      <td>0.066791</td>\n",
       "      <td>0.033396</td>\n",
       "    </tr>\n",
       "    <tr>\n",
       "      <th>2</th>\n",
       "      <td>(11, 12)</td>\n",
       "      <td>[0.819672131147541, 0.8852459016393442, 0.7333...</td>\n",
       "      <td>0.784317</td>\n",
       "      <td>(ca, thal)</td>\n",
       "      <td>0.089933</td>\n",
       "      <td>0.069971</td>\n",
       "      <td>0.034985</td>\n",
       "    </tr>\n",
       "    <tr>\n",
       "      <th>3</th>\n",
       "      <td>(2, 11, 12)</td>\n",
       "      <td>[0.8688524590163934, 0.9180327868852459, 0.816...</td>\n",
       "      <td>0.84071</td>\n",
       "      <td>(cp, ca, thal)</td>\n",
       "      <td>0.059356</td>\n",
       "      <td>0.046181</td>\n",
       "      <td>0.023091</td>\n",
       "    </tr>\n",
       "    <tr>\n",
       "      <th>4</th>\n",
       "      <td>(2, 8, 11, 12)</td>\n",
       "      <td>[0.8360655737704918, 0.9016393442622951, 0.816...</td>\n",
       "      <td>0.840874</td>\n",
       "      <td>(cp, exang, ca, thal)</td>\n",
       "      <td>0.040418</td>\n",
       "      <td>0.031446</td>\n",
       "      <td>0.015723</td>\n",
       "    </tr>\n",
       "    <tr>\n",
       "      <th>5</th>\n",
       "      <td>(2, 5, 8, 11, 12)</td>\n",
       "      <td>[0.8360655737704918, 0.9180327868852459, 0.816...</td>\n",
       "      <td>0.84082</td>\n",
       "      <td>(cp, fbs, exang, ca, thal)</td>\n",
       "      <td>0.050552</td>\n",
       "      <td>0.039331</td>\n",
       "      <td>0.019665</td>\n",
       "    </tr>\n",
       "    <tr>\n",
       "      <th>6</th>\n",
       "      <td>(1, 2, 5, 8, 11, 12)</td>\n",
       "      <td>[0.7868852459016393, 0.9016393442622951, 0.816...</td>\n",
       "      <td>0.831038</td>\n",
       "      <td>(gender, cp, fbs, exang, ca, thal)</td>\n",
       "      <td>0.049287</td>\n",
       "      <td>0.038347</td>\n",
       "      <td>0.019173</td>\n",
       "    </tr>\n",
       "    <tr>\n",
       "      <th>7</th>\n",
       "      <td>(1, 2, 5, 8, 10, 11, 12)</td>\n",
       "      <td>[0.8360655737704918, 0.9508196721311475, 0.8, ...</td>\n",
       "      <td>0.84071</td>\n",
       "      <td>(gender, cp, fbs, exang, slope, ca, thal)</td>\n",
       "      <td>0.080002</td>\n",
       "      <td>0.062244</td>\n",
       "      <td>0.031122</td>\n",
       "    </tr>\n",
       "  </tbody>\n",
       "</table>\n",
       "</div>"
      ],
      "text/plain": [
       "                feature_idx  \\\n",
       "1                     (12,)   \n",
       "2                  (11, 12)   \n",
       "3               (2, 11, 12)   \n",
       "4            (2, 8, 11, 12)   \n",
       "5         (2, 5, 8, 11, 12)   \n",
       "6      (1, 2, 5, 8, 11, 12)   \n",
       "7  (1, 2, 5, 8, 10, 11, 12)   \n",
       "\n",
       "                                           cv_scores avg_score  \\\n",
       "1  [0.8032786885245902, 0.8524590163934426, 0.716...  0.767814   \n",
       "2  [0.819672131147541, 0.8852459016393442, 0.7333...  0.784317   \n",
       "3  [0.8688524590163934, 0.9180327868852459, 0.816...   0.84071   \n",
       "4  [0.8360655737704918, 0.9016393442622951, 0.816...  0.840874   \n",
       "5  [0.8360655737704918, 0.9180327868852459, 0.816...   0.84082   \n",
       "6  [0.7868852459016393, 0.9016393442622951, 0.816...  0.831038   \n",
       "7  [0.8360655737704918, 0.9508196721311475, 0.8, ...   0.84071   \n",
       "\n",
       "                               feature_names  ci_bound   std_dev   std_err  \n",
       "1                                    (thal,)  0.085846  0.066791  0.033396  \n",
       "2                                 (ca, thal)  0.089933  0.069971  0.034985  \n",
       "3                             (cp, ca, thal)  0.059356  0.046181  0.023091  \n",
       "4                      (cp, exang, ca, thal)  0.040418  0.031446  0.015723  \n",
       "5                 (cp, fbs, exang, ca, thal)  0.050552  0.039331  0.019665  \n",
       "6         (gender, cp, fbs, exang, ca, thal)  0.049287  0.038347  0.019173  \n",
       "7  (gender, cp, fbs, exang, slope, ca, thal)  0.080002  0.062244  0.031122  "
      ]
     },
     "execution_count": 130,
     "metadata": {},
     "output_type": "execute_result"
    }
   ],
   "source": [
    "knn = KNeighborsClassifier(n_neighbors=5)\n",
    "X = df[['age','gender','cp','trestbps','chol','fbs','restecg','thalach','exang','oldpeak','slope','ca','thal']]\n",
    "Y = df[['target']]\n",
    "\n",
    "sfs_forward = SFS(knn, \n",
    "          k_features=7, \n",
    "          forward=True, \n",
    "          floating=True, \n",
    "          scoring='accuracy',\n",
    "          cv=5,\n",
    "          n_jobs=-1)\n",
    "sfs_forward = sfs_forward.fit(X, Y,custom_feature_names=df_minmax_col)\n",
    "\n",
    "\n",
    "pd.DataFrame.from_dict(sfs_forward.get_metric_dict()).T"
   ]
  },
  {
   "cell_type": "code",
   "execution_count": 131,
   "id": "84ac91c4",
   "metadata": {},
   "outputs": [
    {
     "data": {
      "text/html": [
       "<div>\n",
       "<style scoped>\n",
       "    .dataframe tbody tr th:only-of-type {\n",
       "        vertical-align: middle;\n",
       "    }\n",
       "\n",
       "    .dataframe tbody tr th {\n",
       "        vertical-align: top;\n",
       "    }\n",
       "\n",
       "    .dataframe thead th {\n",
       "        text-align: right;\n",
       "    }\n",
       "</style>\n",
       "<table border=\"1\" class=\"dataframe\">\n",
       "  <thead>\n",
       "    <tr style=\"text-align: right;\">\n",
       "      <th></th>\n",
       "      <th>gender</th>\n",
       "      <th>cp</th>\n",
       "      <th>fbs</th>\n",
       "      <th>exang</th>\n",
       "      <th>slope</th>\n",
       "      <th>ca</th>\n",
       "      <th>thal</th>\n",
       "      <th>target</th>\n",
       "    </tr>\n",
       "  </thead>\n",
       "  <tbody>\n",
       "    <tr>\n",
       "      <th>0</th>\n",
       "      <td>1</td>\n",
       "      <td>1.000000</td>\n",
       "      <td>0</td>\n",
       "      <td>1</td>\n",
       "      <td>0.5</td>\n",
       "      <td>1.000000</td>\n",
       "      <td>0.0</td>\n",
       "      <td>1</td>\n",
       "    </tr>\n",
       "    <tr>\n",
       "      <th>1</th>\n",
       "      <td>1</td>\n",
       "      <td>1.000000</td>\n",
       "      <td>0</td>\n",
       "      <td>1</td>\n",
       "      <td>0.5</td>\n",
       "      <td>0.666667</td>\n",
       "      <td>1.0</td>\n",
       "      <td>1</td>\n",
       "    </tr>\n",
       "    <tr>\n",
       "      <th>2</th>\n",
       "      <td>1</td>\n",
       "      <td>0.666667</td>\n",
       "      <td>0</td>\n",
       "      <td>0</td>\n",
       "      <td>1.0</td>\n",
       "      <td>0.000000</td>\n",
       "      <td>0.0</td>\n",
       "      <td>0</td>\n",
       "    </tr>\n",
       "    <tr>\n",
       "      <th>3</th>\n",
       "      <td>0</td>\n",
       "      <td>0.333333</td>\n",
       "      <td>0</td>\n",
       "      <td>0</td>\n",
       "      <td>0.0</td>\n",
       "      <td>0.000000</td>\n",
       "      <td>0.0</td>\n",
       "      <td>0</td>\n",
       "    </tr>\n",
       "    <tr>\n",
       "      <th>4</th>\n",
       "      <td>1</td>\n",
       "      <td>0.333333</td>\n",
       "      <td>0</td>\n",
       "      <td>0</td>\n",
       "      <td>0.0</td>\n",
       "      <td>0.000000</td>\n",
       "      <td>0.0</td>\n",
       "      <td>0</td>\n",
       "    </tr>\n",
       "  </tbody>\n",
       "</table>\n",
       "</div>"
      ],
      "text/plain": [
       "   gender        cp  fbs  exang  slope        ca  thal  target\n",
       "0       1  1.000000    0      1    0.5  1.000000   0.0       1\n",
       "1       1  1.000000    0      1    0.5  0.666667   1.0       1\n",
       "2       1  0.666667    0      0    1.0  0.000000   0.0       0\n",
       "3       0  0.333333    0      0    0.0  0.000000   0.0       0\n",
       "4       1  0.333333    0      0    0.0  0.000000   0.0       0"
      ]
     },
     "execution_count": 131,
     "metadata": {},
     "output_type": "execute_result"
    }
   ],
   "source": [
    "df_select_forward = ['gender', 'cp', 'fbs', 'exang', 'slope', 'ca', 'thal']\n",
    "df_select_forward.append('target')\n",
    "df_forward = df_minmax.copy()\n",
    "df_forward = df_forward[df_select_forward]\n",
    "df_forward.head()"
   ]
  },
  {
   "cell_type": "markdown",
   "id": "d75d7118",
   "metadata": {},
   "source": [
    "## Check the output of the algorithms for df_forward (output of forward) :"
   ]
  },
  {
   "cell_type": "code",
   "execution_count": 149,
   "id": "73d86cdd",
   "metadata": {},
   "outputs": [
    {
     "data": {
      "text/html": [
       "<div>\n",
       "<style scoped>\n",
       "    .dataframe tbody tr th:only-of-type {\n",
       "        vertical-align: middle;\n",
       "    }\n",
       "\n",
       "    .dataframe tbody tr th {\n",
       "        vertical-align: top;\n",
       "    }\n",
       "\n",
       "    .dataframe thead th {\n",
       "        text-align: right;\n",
       "    }\n",
       "</style>\n",
       "<table border=\"1\" class=\"dataframe\">\n",
       "  <thead>\n",
       "    <tr style=\"text-align: right;\">\n",
       "      <th></th>\n",
       "      <th>accuracy</th>\n",
       "      <th>recall</th>\n",
       "      <th>specificity</th>\n",
       "      <th>precision</th>\n",
       "      <th>F1</th>\n",
       "    </tr>\n",
       "  </thead>\n",
       "  <tbody>\n",
       "    <tr>\n",
       "      <th>SVM</th>\n",
       "      <td>0.807742</td>\n",
       "      <td>0.753176</td>\n",
       "      <td>0.859082</td>\n",
       "      <td>0.826484</td>\n",
       "      <td>0.778684</td>\n",
       "    </tr>\n",
       "    <tr>\n",
       "      <th>Logistic Regression</th>\n",
       "      <td>0.840860</td>\n",
       "      <td>0.796248</td>\n",
       "      <td>0.882907</td>\n",
       "      <td>0.863868</td>\n",
       "      <td>0.817339</td>\n",
       "    </tr>\n",
       "    <tr>\n",
       "      <th>NB</th>\n",
       "      <td>0.739032</td>\n",
       "      <td>0.688122</td>\n",
       "      <td>0.799334</td>\n",
       "      <td>0.739650</td>\n",
       "      <td>0.696447</td>\n",
       "    </tr>\n",
       "    <tr>\n",
       "      <th>KNN</th>\n",
       "      <td>0.811290</td>\n",
       "      <td>0.770605</td>\n",
       "      <td>0.851825</td>\n",
       "      <td>0.830769</td>\n",
       "      <td>0.788474</td>\n",
       "    </tr>\n",
       "    <tr>\n",
       "      <th>Dtree</th>\n",
       "      <td>0.771075</td>\n",
       "      <td>0.688822</td>\n",
       "      <td>0.847351</td>\n",
       "      <td>0.804648</td>\n",
       "      <td>0.730575</td>\n",
       "    </tr>\n",
       "    <tr>\n",
       "      <th>Random Forest</th>\n",
       "      <td>0.814194</td>\n",
       "      <td>0.791395</td>\n",
       "      <td>0.835714</td>\n",
       "      <td>0.805129</td>\n",
       "      <td>0.793310</td>\n",
       "    </tr>\n",
       "    <tr>\n",
       "      <th>Multi-layer-Perceptron</th>\n",
       "      <td>0.764409</td>\n",
       "      <td>0.758062</td>\n",
       "      <td>0.773978</td>\n",
       "      <td>0.740943</td>\n",
       "      <td>0.739934</td>\n",
       "    </tr>\n",
       "    <tr>\n",
       "      <th>XGBoost</th>\n",
       "      <td>0.817527</td>\n",
       "      <td>0.776775</td>\n",
       "      <td>0.854145</td>\n",
       "      <td>0.821400</td>\n",
       "      <td>0.789055</td>\n",
       "    </tr>\n",
       "    <tr>\n",
       "      <th>Stochastic-Gradient-Descent</th>\n",
       "      <td>0.737849</td>\n",
       "      <td>0.804845</td>\n",
       "      <td>0.699223</td>\n",
       "      <td>0.731258</td>\n",
       "      <td>0.739676</td>\n",
       "    </tr>\n",
       "    <tr>\n",
       "      <th>AdaBoost</th>\n",
       "      <td>0.820753</td>\n",
       "      <td>0.769723</td>\n",
       "      <td>0.866041</td>\n",
       "      <td>0.835844</td>\n",
       "      <td>0.789282</td>\n",
       "    </tr>\n",
       "    <tr>\n",
       "      <th>LightGBM</th>\n",
       "      <td>0.837204</td>\n",
       "      <td>0.793588</td>\n",
       "      <td>0.872415</td>\n",
       "      <td>0.839197</td>\n",
       "      <td>0.808379</td>\n",
       "    </tr>\n",
       "    <tr>\n",
       "      <th>catBoost</th>\n",
       "      <td>0.810860</td>\n",
       "      <td>0.760864</td>\n",
       "      <td>0.859866</td>\n",
       "      <td>0.824260</td>\n",
       "      <td>0.781273</td>\n",
       "    </tr>\n",
       "  </tbody>\n",
       "</table>\n",
       "</div>"
      ],
      "text/plain": [
       "                             accuracy    recall  specificity  precision  \\\n",
       "SVM                          0.807742  0.753176     0.859082   0.826484   \n",
       "Logistic Regression          0.840860  0.796248     0.882907   0.863868   \n",
       "NB                           0.739032  0.688122     0.799334   0.739650   \n",
       "KNN                          0.811290  0.770605     0.851825   0.830769   \n",
       "Dtree                        0.771075  0.688822     0.847351   0.804648   \n",
       "Random Forest                0.814194  0.791395     0.835714   0.805129   \n",
       "Multi-layer-Perceptron       0.764409  0.758062     0.773978   0.740943   \n",
       "XGBoost                      0.817527  0.776775     0.854145   0.821400   \n",
       "Stochastic-Gradient-Descent  0.737849  0.804845     0.699223   0.731258   \n",
       "AdaBoost                     0.820753  0.769723     0.866041   0.835844   \n",
       "LightGBM                     0.837204  0.793588     0.872415   0.839197   \n",
       "catBoost                     0.810860  0.760864     0.859866   0.824260   \n",
       "\n",
       "                                   F1  \n",
       "SVM                          0.778684  \n",
       "Logistic Regression          0.817339  \n",
       "NB                           0.696447  \n",
       "KNN                          0.788474  \n",
       "Dtree                        0.730575  \n",
       "Random Forest                0.793310  \n",
       "Multi-layer-Perceptron       0.739934  \n",
       "XGBoost                      0.789055  \n",
       "Stochastic-Gradient-Descent  0.739676  \n",
       "AdaBoost                     0.789282  \n",
       "LightGBM                     0.808379  \n",
       "catBoost                     0.781273  "
      ]
     },
     "execution_count": 149,
     "metadata": {},
     "output_type": "execute_result"
    }
   ],
   "source": [
    "algo={\n",
    "    'NB':MultinomialNB(alpha=1.0),\n",
    "    'Logistic Regression':LogisticRegression(),\n",
    "    'SVM':svm.SVC(kernel='poly',random_state=1),\n",
    "    'KNN':KNeighborsClassifier(n_neighbors=11),\n",
    "    'Dtree':DecisionTreeClassifier(),\n",
    "    'Random Forest':RandomForestClassifier(random_state=1),\n",
    "    'Multi-layer-Perceptron':MLPClassifier(solver='lbfgs', alpha=1e-5,random_state=3),\n",
    "    'XGBoost':xgb.XGBClassifier(objective=\"binary:logistic\", random_state=3),\n",
    "    'Stochastic-Gradient-Descent':SGDClassifier(loss=\"hinge\", penalty=\"l2\", max_iter=8),\n",
    "    'AdaBoost':AdaBoostClassifier(n_estimators=100, random_state=3),\n",
    "    'LightGBM ':LGBMClassifier(),\n",
    "    'catBoost':CatBoostClassifier(verbose=0, n_estimators=100),\n",
    "}\n",
    "\n",
    "\n",
    "\n",
    "df2_f = df_forward.drop(['target'], axis = 1)\n",
    "df_f_col =df2_f.columns\n",
    "result_beforeNorm=k_fold_results(df2_f[df_f_col],df['target'],algo=algo)\n",
    "result_beforeNorm.T"
   ]
  },
  {
   "cell_type": "code",
   "execution_count": 150,
   "id": "8313860c",
   "metadata": {},
   "outputs": [],
   "source": [
    "res_forward=result_beforeNorm.T\n",
    "scores_forward = res_forward['accuracy'].values\n"
   ]
  },
  {
   "cell_type": "code",
   "execution_count": 151,
   "id": "687f6d50",
   "metadata": {},
   "outputs": [
    {
     "data": {
      "text/plain": [
       "<AxesSubplot:xlabel='Algorithms', ylabel='Accuracy score'>"
      ]
     },
     "execution_count": 151,
     "metadata": {},
     "output_type": "execute_result"
    },
    {
     "data": {
      "image/png": "[encoded data removed]",
      "text/plain": [
       "<Figure size 1080x576 with 1 Axes>"
      ]
     },
     "metadata": {},
     "output_type": "display_data"
    }
   ],
   "source": [
    "sns.set(rc={'figure.figsize':(15,8)})\n",
    "plt.xlabel(\"Algorithms\")\n",
    "plt.ylabel(\"Accuracy score\")\n",
    "sns.barplot(MLA,scores_forward)"
   ]
  },
  {
   "cell_type": "markdown",
   "id": "bf394448",
   "metadata": {},
   "source": [
    "### Backward:"
   ]
  },
  {
   "cell_type": "code",
   "execution_count": 152,
   "id": "0a43410f",
   "metadata": {},
   "outputs": [
    {
     "data": {
      "text/html": [
       "<div>\n",
       "<style scoped>\n",
       "    .dataframe tbody tr th:only-of-type {\n",
       "        vertical-align: middle;\n",
       "    }\n",
       "\n",
       "    .dataframe tbody tr th {\n",
       "        vertical-align: top;\n",
       "    }\n",
       "\n",
       "    .dataframe thead th {\n",
       "        text-align: right;\n",
       "    }\n",
       "</style>\n",
       "<table border=\"1\" class=\"dataframe\">\n",
       "  <thead>\n",
       "    <tr style=\"text-align: right;\">\n",
       "      <th></th>\n",
       "      <th>feature_idx</th>\n",
       "      <th>cv_scores</th>\n",
       "      <th>avg_score</th>\n",
       "      <th>feature_names</th>\n",
       "      <th>ci_bound</th>\n",
       "      <th>std_dev</th>\n",
       "      <th>std_err</th>\n",
       "    </tr>\n",
       "  </thead>\n",
       "  <tbody>\n",
       "    <tr>\n",
       "      <th>13</th>\n",
       "      <td>(0, 1, 2, 3, 4, 5, 6, 7, 8, 9, 10, 11, 12)</td>\n",
       "      <td>[0.6237623762376238, 0.6138613861386139, 0.68]</td>\n",
       "      <td>0.639208</td>\n",
       "      <td>(age, gender, cp, trestbps, chol, fbs, restecg...</td>\n",
       "      <td>0.065544</td>\n",
       "      <td>0.029126</td>\n",
       "      <td>0.020595</td>\n",
       "    </tr>\n",
       "    <tr>\n",
       "      <th>12</th>\n",
       "      <td>(0, 1, 2, 3, 4, 5, 7, 8, 9, 10, 11, 12)</td>\n",
       "      <td>[0.6237623762376238, 0.6138613861386139, 0.7]</td>\n",
       "      <td>0.645875</td>\n",
       "      <td>(age, gender, cp, trestbps, chol, fbs, thalach...</td>\n",
       "      <td>0.086605</td>\n",
       "      <td>0.038485</td>\n",
       "      <td>0.027213</td>\n",
       "    </tr>\n",
       "    <tr>\n",
       "      <th>11</th>\n",
       "      <td>(0, 1, 2, 3, 4, 5, 7, 8, 10, 11, 12)</td>\n",
       "      <td>[0.6237623762376238, 0.6138613861386139, 0.7]</td>\n",
       "      <td>0.645875</td>\n",
       "      <td>(age, gender, cp, trestbps, chol, fbs, thalach...</td>\n",
       "      <td>0.086605</td>\n",
       "      <td>0.038485</td>\n",
       "      <td>0.027213</td>\n",
       "    </tr>\n",
       "    <tr>\n",
       "      <th>10</th>\n",
       "      <td>(0, 1, 2, 3, 4, 5, 7, 8, 11, 12)</td>\n",
       "      <td>[0.6237623762376238, 0.6138613861386139, 0.7]</td>\n",
       "      <td>0.645875</td>\n",
       "      <td>(age, gender, cp, trestbps, chol, fbs, thalach...</td>\n",
       "      <td>0.086605</td>\n",
       "      <td>0.038485</td>\n",
       "      <td>0.027213</td>\n",
       "    </tr>\n",
       "    <tr>\n",
       "      <th>9</th>\n",
       "      <td>(0, 1, 2, 3, 4, 5, 7, 11, 12)</td>\n",
       "      <td>[0.6237623762376238, 0.6138613861386139, 0.7]</td>\n",
       "      <td>0.645875</td>\n",
       "      <td>(age, gender, cp, trestbps, chol, fbs, thalach...</td>\n",
       "      <td>0.086605</td>\n",
       "      <td>0.038485</td>\n",
       "      <td>0.027213</td>\n",
       "    </tr>\n",
       "    <tr>\n",
       "      <th>8</th>\n",
       "      <td>(0, 1, 2, 3, 4, 7, 11, 12)</td>\n",
       "      <td>[0.6237623762376238, 0.6138613861386139, 0.7]</td>\n",
       "      <td>0.645875</td>\n",
       "      <td>(age, gender, cp, trestbps, chol, thalach, ca,...</td>\n",
       "      <td>0.086605</td>\n",
       "      <td>0.038485</td>\n",
       "      <td>0.027213</td>\n",
       "    </tr>\n",
       "    <tr>\n",
       "      <th>7</th>\n",
       "      <td>(0, 2, 3, 4, 7, 11, 12)</td>\n",
       "      <td>[0.6237623762376238, 0.6138613861386139, 0.7]</td>\n",
       "      <td>0.645875</td>\n",
       "      <td>(age, cp, trestbps, chol, thalach, ca, thal)</td>\n",
       "      <td>0.086605</td>\n",
       "      <td>0.038485</td>\n",
       "      <td>0.027213</td>\n",
       "    </tr>\n",
       "  </tbody>\n",
       "</table>\n",
       "</div>"
      ],
      "text/plain": [
       "                                   feature_idx  \\\n",
       "13  (0, 1, 2, 3, 4, 5, 6, 7, 8, 9, 10, 11, 12)   \n",
       "12     (0, 1, 2, 3, 4, 5, 7, 8, 9, 10, 11, 12)   \n",
       "11        (0, 1, 2, 3, 4, 5, 7, 8, 10, 11, 12)   \n",
       "10            (0, 1, 2, 3, 4, 5, 7, 8, 11, 12)   \n",
       "9                (0, 1, 2, 3, 4, 5, 7, 11, 12)   \n",
       "8                   (0, 1, 2, 3, 4, 7, 11, 12)   \n",
       "7                      (0, 2, 3, 4, 7, 11, 12)   \n",
       "\n",
       "                                         cv_scores avg_score  \\\n",
       "13  [0.6237623762376238, 0.6138613861386139, 0.68]  0.639208   \n",
       "12   [0.6237623762376238, 0.6138613861386139, 0.7]  0.645875   \n",
       "11   [0.6237623762376238, 0.6138613861386139, 0.7]  0.645875   \n",
       "10   [0.6237623762376238, 0.6138613861386139, 0.7]  0.645875   \n",
       "9    [0.6237623762376238, 0.6138613861386139, 0.7]  0.645875   \n",
       "8    [0.6237623762376238, 0.6138613861386139, 0.7]  0.645875   \n",
       "7    [0.6237623762376238, 0.6138613861386139, 0.7]  0.645875   \n",
       "\n",
       "                                        feature_names  ci_bound   std_dev  \\\n",
       "13  (age, gender, cp, trestbps, chol, fbs, restecg...  0.065544  0.029126   \n",
       "12  (age, gender, cp, trestbps, chol, fbs, thalach...  0.086605  0.038485   \n",
       "11  (age, gender, cp, trestbps, chol, fbs, thalach...  0.086605  0.038485   \n",
       "10  (age, gender, cp, trestbps, chol, fbs, thalach...  0.086605  0.038485   \n",
       "9   (age, gender, cp, trestbps, chol, fbs, thalach...  0.086605  0.038485   \n",
       "8   (age, gender, cp, trestbps, chol, thalach, ca,...  0.086605  0.038485   \n",
       "7        (age, cp, trestbps, chol, thalach, ca, thal)  0.086605  0.038485   \n",
       "\n",
       "     std_err  \n",
       "13  0.020595  \n",
       "12  0.027213  \n",
       "11  0.027213  \n",
       "10  0.027213  \n",
       "9   0.027213  \n",
       "8   0.027213  \n",
       "7   0.027213  "
      ]
     },
     "execution_count": 152,
     "metadata": {},
     "output_type": "execute_result"
    }
   ],
   "source": [
    "sfs_Backward = SFS(knn, \n",
    "          k_features=7, \n",
    "          forward=False, \n",
    "          floating=True, \n",
    "          scoring='accuracy',\n",
    "          cv=3,\n",
    "          n_jobs=-1)\n",
    "sfs_Backward = sfs_Backward.fit(X, Y,custom_feature_names=df_minmax_col)\n",
    "import pandas as pd\n",
    "pd.DataFrame.from_dict(sfs_Backward.get_metric_dict()).T"
   ]
  },
  {
   "cell_type": "code",
   "execution_count": 153,
   "id": "9852fb6e",
   "metadata": {},
   "outputs": [
    {
     "data": {
      "text/html": [
       "<div>\n",
       "<style scoped>\n",
       "    .dataframe tbody tr th:only-of-type {\n",
       "        vertical-align: middle;\n",
       "    }\n",
       "\n",
       "    .dataframe tbody tr th {\n",
       "        vertical-align: top;\n",
       "    }\n",
       "\n",
       "    .dataframe thead th {\n",
       "        text-align: right;\n",
       "    }\n",
       "</style>\n",
       "<table border=\"1\" class=\"dataframe\">\n",
       "  <thead>\n",
       "    <tr style=\"text-align: right;\">\n",
       "      <th></th>\n",
       "      <th>age</th>\n",
       "      <th>cp</th>\n",
       "      <th>trestbps</th>\n",
       "      <th>chol</th>\n",
       "      <th>thalach</th>\n",
       "      <th>ca</th>\n",
       "      <th>thal</th>\n",
       "      <th>target</th>\n",
       "    </tr>\n",
       "  </thead>\n",
       "  <tbody>\n",
       "    <tr>\n",
       "      <th>0</th>\n",
       "      <td>0.791667</td>\n",
       "      <td>1.000000</td>\n",
       "      <td>0.622642</td>\n",
       "      <td>0.365297</td>\n",
       "      <td>0.282443</td>\n",
       "      <td>1.000000</td>\n",
       "      <td>0.0</td>\n",
       "      <td>1</td>\n",
       "    </tr>\n",
       "    <tr>\n",
       "      <th>1</th>\n",
       "      <td>0.791667</td>\n",
       "      <td>1.000000</td>\n",
       "      <td>0.245283</td>\n",
       "      <td>0.235160</td>\n",
       "      <td>0.442748</td>\n",
       "      <td>0.666667</td>\n",
       "      <td>1.0</td>\n",
       "      <td>1</td>\n",
       "    </tr>\n",
       "    <tr>\n",
       "      <th>2</th>\n",
       "      <td>0.166667</td>\n",
       "      <td>0.666667</td>\n",
       "      <td>0.339623</td>\n",
       "      <td>0.283105</td>\n",
       "      <td>0.885496</td>\n",
       "      <td>0.000000</td>\n",
       "      <td>0.0</td>\n",
       "      <td>0</td>\n",
       "    </tr>\n",
       "    <tr>\n",
       "      <th>3</th>\n",
       "      <td>0.250000</td>\n",
       "      <td>0.333333</td>\n",
       "      <td>0.339623</td>\n",
       "      <td>0.178082</td>\n",
       "      <td>0.770992</td>\n",
       "      <td>0.000000</td>\n",
       "      <td>0.0</td>\n",
       "      <td>0</td>\n",
       "    </tr>\n",
       "    <tr>\n",
       "      <th>4</th>\n",
       "      <td>0.562500</td>\n",
       "      <td>0.333333</td>\n",
       "      <td>0.245283</td>\n",
       "      <td>0.251142</td>\n",
       "      <td>0.816794</td>\n",
       "      <td>0.000000</td>\n",
       "      <td>0.0</td>\n",
       "      <td>0</td>\n",
       "    </tr>\n",
       "  </tbody>\n",
       "</table>\n",
       "</div>"
      ],
      "text/plain": [
       "        age        cp  trestbps      chol   thalach        ca  thal  target\n",
       "0  0.791667  1.000000  0.622642  0.365297  0.282443  1.000000   0.0       1\n",
       "1  0.791667  1.000000  0.245283  0.235160  0.442748  0.666667   1.0       1\n",
       "2  0.166667  0.666667  0.339623  0.283105  0.885496  0.000000   0.0       0\n",
       "3  0.250000  0.333333  0.339623  0.178082  0.770992  0.000000   0.0       0\n",
       "4  0.562500  0.333333  0.245283  0.251142  0.816794  0.000000   0.0       0"
      ]
     },
     "execution_count": 153,
     "metadata": {},
     "output_type": "execute_result"
    }
   ],
   "source": [
    "df_select_backward = ['age', 'cp', 'trestbps', 'chol', 'thalach', 'ca', 'thal']\n",
    "df_select_backward.append('target')\n",
    "df_backward = df_minmax.copy()\n",
    "df_backward = df_backward[df_select_backward]\n",
    "df_backward.head()"
   ]
  },
  {
   "cell_type": "markdown",
   "id": "879bc83e",
   "metadata": {},
   "source": [
    "## Check the output of the algorithms for df_backward (output of backward) :"
   ]
  },
  {
   "cell_type": "code",
   "execution_count": 154,
   "id": "f9608b79",
   "metadata": {},
   "outputs": [
    {
     "data": {
      "text/html": [
       "<div>\n",
       "<style scoped>\n",
       "    .dataframe tbody tr th:only-of-type {\n",
       "        vertical-align: middle;\n",
       "    }\n",
       "\n",
       "    .dataframe tbody tr th {\n",
       "        vertical-align: top;\n",
       "    }\n",
       "\n",
       "    .dataframe thead th {\n",
       "        text-align: right;\n",
       "    }\n",
       "</style>\n",
       "<table border=\"1\" class=\"dataframe\">\n",
       "  <thead>\n",
       "    <tr style=\"text-align: right;\">\n",
       "      <th></th>\n",
       "      <th>accuracy</th>\n",
       "      <th>recall</th>\n",
       "      <th>specificity</th>\n",
       "      <th>precision</th>\n",
       "      <th>F1</th>\n",
       "    </tr>\n",
       "  </thead>\n",
       "  <tbody>\n",
       "    <tr>\n",
       "      <th>SVM</th>\n",
       "      <td>0.817634</td>\n",
       "      <td>0.757908</td>\n",
       "      <td>0.873756</td>\n",
       "      <td>0.846843</td>\n",
       "      <td>0.791675</td>\n",
       "    </tr>\n",
       "    <tr>\n",
       "      <th>Logistic Regression</th>\n",
       "      <td>0.817849</td>\n",
       "      <td>0.787767</td>\n",
       "      <td>0.851665</td>\n",
       "      <td>0.825434</td>\n",
       "      <td>0.797664</td>\n",
       "    </tr>\n",
       "    <tr>\n",
       "      <th>NB</th>\n",
       "      <td>0.784839</td>\n",
       "      <td>0.771624</td>\n",
       "      <td>0.802152</td>\n",
       "      <td>0.783677</td>\n",
       "      <td>0.769242</td>\n",
       "    </tr>\n",
       "    <tr>\n",
       "      <th>KNN</th>\n",
       "      <td>0.814409</td>\n",
       "      <td>0.794696</td>\n",
       "      <td>0.840485</td>\n",
       "      <td>0.816642</td>\n",
       "      <td>0.795098</td>\n",
       "    </tr>\n",
       "    <tr>\n",
       "      <th>Dtree</th>\n",
       "      <td>0.741505</td>\n",
       "      <td>0.696393</td>\n",
       "      <td>0.780442</td>\n",
       "      <td>0.738183</td>\n",
       "      <td>0.708198</td>\n",
       "    </tr>\n",
       "    <tr>\n",
       "      <th>Random Forest</th>\n",
       "      <td>0.807742</td>\n",
       "      <td>0.753549</td>\n",
       "      <td>0.855617</td>\n",
       "      <td>0.820214</td>\n",
       "      <td>0.780905</td>\n",
       "    </tr>\n",
       "    <tr>\n",
       "      <th>Multi-layer-Perceptron</th>\n",
       "      <td>0.751613</td>\n",
       "      <td>0.736150</td>\n",
       "      <td>0.756620</td>\n",
       "      <td>0.723547</td>\n",
       "      <td>0.724559</td>\n",
       "    </tr>\n",
       "    <tr>\n",
       "      <th>XGBoost</th>\n",
       "      <td>0.741505</td>\n",
       "      <td>0.683543</td>\n",
       "      <td>0.791558</td>\n",
       "      <td>0.740411</td>\n",
       "      <td>0.702082</td>\n",
       "    </tr>\n",
       "    <tr>\n",
       "      <th>Stochastic-Gradient-Descent</th>\n",
       "      <td>0.794731</td>\n",
       "      <td>0.846154</td>\n",
       "      <td>0.715384</td>\n",
       "      <td>0.781912</td>\n",
       "      <td>0.793007</td>\n",
       "    </tr>\n",
       "    <tr>\n",
       "      <th>AdaBoost</th>\n",
       "      <td>0.781613</td>\n",
       "      <td>0.746361</td>\n",
       "      <td>0.816035</td>\n",
       "      <td>0.767512</td>\n",
       "      <td>0.748187</td>\n",
       "    </tr>\n",
       "    <tr>\n",
       "      <th>LightGBM</th>\n",
       "      <td>0.764516</td>\n",
       "      <td>0.727524</td>\n",
       "      <td>0.798682</td>\n",
       "      <td>0.745885</td>\n",
       "      <td>0.729785</td>\n",
       "    </tr>\n",
       "    <tr>\n",
       "      <th>catBoost</th>\n",
       "      <td>0.830860</td>\n",
       "      <td>0.789838</td>\n",
       "      <td>0.867840</td>\n",
       "      <td>0.845540</td>\n",
       "      <td>0.808391</td>\n",
       "    </tr>\n",
       "  </tbody>\n",
       "</table>\n",
       "</div>"
      ],
      "text/plain": [
       "                             accuracy    recall  specificity  precision  \\\n",
       "SVM                          0.817634  0.757908     0.873756   0.846843   \n",
       "Logistic Regression          0.817849  0.787767     0.851665   0.825434   \n",
       "NB                           0.784839  0.771624     0.802152   0.783677   \n",
       "KNN                          0.814409  0.794696     0.840485   0.816642   \n",
       "Dtree                        0.741505  0.696393     0.780442   0.738183   \n",
       "Random Forest                0.807742  0.753549     0.855617   0.820214   \n",
       "Multi-layer-Perceptron       0.751613  0.736150     0.756620   0.723547   \n",
       "XGBoost                      0.741505  0.683543     0.791558   0.740411   \n",
       "Stochastic-Gradient-Descent  0.794731  0.846154     0.715384   0.781912   \n",
       "AdaBoost                     0.781613  0.746361     0.816035   0.767512   \n",
       "LightGBM                     0.764516  0.727524     0.798682   0.745885   \n",
       "catBoost                     0.830860  0.789838     0.867840   0.845540   \n",
       "\n",
       "                                   F1  \n",
       "SVM                          0.791675  \n",
       "Logistic Regression          0.797664  \n",
       "NB                           0.769242  \n",
       "KNN                          0.795098  \n",
       "Dtree                        0.708198  \n",
       "Random Forest                0.780905  \n",
       "Multi-layer-Perceptron       0.724559  \n",
       "XGBoost                      0.702082  \n",
       "Stochastic-Gradient-Descent  0.793007  \n",
       "AdaBoost                     0.748187  \n",
       "LightGBM                     0.729785  \n",
       "catBoost                     0.808391  "
      ]
     },
     "execution_count": 154,
     "metadata": {},
     "output_type": "execute_result"
    }
   ],
   "source": [
    "algo={\n",
    "    'NB':MultinomialNB(alpha=1.0),\n",
    "    'Logistic Regression':LogisticRegression(),\n",
    "    'SVM':svm.SVC(kernel='poly',random_state=1),\n",
    "    'KNN':KNeighborsClassifier(n_neighbors=11),\n",
    "    'Dtree':DecisionTreeClassifier(),\n",
    "    'Random Forest':RandomForestClassifier(random_state=1),\n",
    "    'Multi-layer-Perceptron':MLPClassifier(solver='lbfgs', alpha=1e-5,random_state=3),\n",
    "    'XGBoost':xgb.XGBClassifier(objective=\"binary:logistic\", random_state=3),\n",
    "    'Stochastic-Gradient-Descent':SGDClassifier(loss=\"hinge\", penalty=\"l2\", max_iter=8),\n",
    "    'AdaBoost':AdaBoostClassifier(n_estimators=100, random_state=3),\n",
    "    'LightGBM ':LGBMClassifier(),\n",
    "    'catBoost':CatBoostClassifier(verbose=0, n_estimators=100),\n",
    "}\n",
    "\n",
    "\n",
    "df2_b = df_backward.drop(['target'], axis = 1)\n",
    "df_b_col =df2_b.columns\n",
    "result_beforeNorm=k_fold_results(df2_b[df_b_col],df['target'],algo=algo)\n",
    "result_beforeNorm.T"
   ]
  },
  {
   "cell_type": "code",
   "execution_count": 155,
   "id": "fada701c",
   "metadata": {},
   "outputs": [],
   "source": [
    "res_b=result_beforeNorm.T\n",
    "scores_b = res_b['accuracy'].values"
   ]
  },
  {
   "cell_type": "code",
   "execution_count": 156,
   "id": "a137cd75",
   "metadata": {},
   "outputs": [
    {
     "data": {
      "text/plain": [
       "<AxesSubplot:xlabel='Algorithms', ylabel='Accuracy score'>"
      ]
     },
     "execution_count": 156,
     "metadata": {},
     "output_type": "execute_result"
    },
    {
     "data": {
      "image/png": "[encoded data removed]",
      "text/plain": [
       "<Figure size 1080x576 with 1 Axes>"
      ]
     },
     "metadata": {},
     "output_type": "display_data"
    }
   ],
   "source": [
    "sns.set(rc={'figure.figsize':(15,8)})\n",
    "plt.xlabel(\"Algorithms\")\n",
    "plt.ylabel(\"Accuracy score\")\n",
    "sns.barplot(MLA,scores_b)"
   ]
  },
  {
   "cell_type": "markdown",
   "id": "5246d5aa",
   "metadata": {},
   "source": [
    "### Ridge:"
   ]
  },
  {
   "cell_type": "code",
   "execution_count": 157,
   "id": "ba8d4960",
   "metadata": {},
   "outputs": [
    {
     "name": "stdout",
     "output_type": "stream",
     "text": [
      "R squared Error on test set :  0.05344018537024686\n",
      "   Column_Name  Coefficient_Value\n",
      "0          age           0.060257\n",
      "1       gender           0.101998\n",
      "2           cp           0.214492\n",
      "3     trestbps           0.315371\n",
      "4         chol          -0.002003\n",
      "5          fbs          -0.065739\n",
      "6      restecg           0.087613\n",
      "7      thalach          -0.249616\n",
      "8        exang           0.090530\n",
      "9      oldpeak           0.287112\n",
      "10       slope           0.020034\n",
      "11          ca           0.410870\n",
      "12        thal           0.284131\n",
      "13      target                NaN\n"
     ]
    },
    {
     "data": {
      "text/plain": [
       "<BarContainer object of 14 artists>"
      ]
     },
     "execution_count": 157,
     "metadata": {},
     "output_type": "execute_result"
    },
    {
     "data": {
      "image/png": "[encoded data removed]",
      "text/plain": [
       "<Figure size 1080x432 with 1 Axes>"
      ]
     },
     "metadata": {},
     "output_type": "display_data"
    }
   ],
   "source": [
    "# Train the model\n",
    "ridgeRegressor = Ridge(alpha = 0.5) #here setting alpha 1\n",
    "ridgeRegressor.fit(X_train_minmax, y_train_minmax)\n",
    "y_predicted_ridge = ridgeRegressor.predict(X_test_minmax)\n",
    "\n",
    "# calculating Mean Squared Error (mse)\n",
    "R_squared = r2_score(y_predicted_ridge,y_test_minmax)\n",
    "print(\"R squared Error on test set : \", R_squared)\n",
    "feature_names = df.columns\n",
    "\n",
    "# Putting together the coefficient and their corresponding variable names\n",
    "coefficient_df = pd.DataFrame()\n",
    "coefficient_df[\"Column_Name\"] = feature_names\n",
    "coefficient_df['Coefficient_Value'] = pd.Series(ridgeRegressor.coef_)\n",
    "print(coefficient_df.head(15))\n",
    "\n",
    "plt.rcParams[\"figure.figsize\"] = (15,6)\n",
    " \n",
    "plt.bar(coefficient_df[\"Column_Name\"],coefficient_df[\"Coefficient_Value\"])\n"
   ]
  },
  {
   "cell_type": "code",
   "execution_count": 158,
   "id": "c878e7a6",
   "metadata": {},
   "outputs": [
    {
     "data": {
      "text/plain": [
       "array([0.06025676, 0.10199816, 0.21449238, 0.31537073, 0.00200312,\n",
       "       0.06573949, 0.0876134 , 0.24961649, 0.09053013, 0.28711194,\n",
       "       0.02003354, 0.41086974, 0.28413144])"
      ]
     },
     "execution_count": 158,
     "metadata": {},
     "output_type": "execute_result"
    }
   ],
   "source": [
    "ridgeRegressor.coef_ = abs(ridgeRegressor.coef_)\n",
    "ridgeRegressor.coef_"
   ]
  },
  {
   "cell_type": "code",
   "execution_count": 159,
   "id": "50db0c10",
   "metadata": {},
   "outputs": [
    {
     "data": {
      "text/plain": [
       "['gender', 'cp', 'trestbps', 'thalach', 'oldpeak', 'ca', 'thal', 'target']"
      ]
     },
     "execution_count": 159,
     "metadata": {},
     "output_type": "execute_result"
    }
   ],
   "source": [
    "df_select_ridge= []\n",
    "for i in range (0,len(ridgeRegressor.coef_)):\n",
    "    if (ridgeRegressor.coef_[i] > 0.1):\n",
    "        df_select_ridge.append(df_minmax_columns[i])\n",
    "df_select_ridge.append('target')\n",
    "df_select_ridge"
   ]
  },
  {
   "cell_type": "code",
   "execution_count": 160,
   "id": "786667dc",
   "metadata": {},
   "outputs": [
    {
     "data": {
      "text/html": [
       "<div>\n",
       "<style scoped>\n",
       "    .dataframe tbody tr th:only-of-type {\n",
       "        vertical-align: middle;\n",
       "    }\n",
       "\n",
       "    .dataframe tbody tr th {\n",
       "        vertical-align: top;\n",
       "    }\n",
       "\n",
       "    .dataframe thead th {\n",
       "        text-align: right;\n",
       "    }\n",
       "</style>\n",
       "<table border=\"1\" class=\"dataframe\">\n",
       "  <thead>\n",
       "    <tr style=\"text-align: right;\">\n",
       "      <th></th>\n",
       "      <th>gender</th>\n",
       "      <th>cp</th>\n",
       "      <th>trestbps</th>\n",
       "      <th>thalach</th>\n",
       "      <th>oldpeak</th>\n",
       "      <th>ca</th>\n",
       "      <th>thal</th>\n",
       "      <th>target</th>\n",
       "    </tr>\n",
       "  </thead>\n",
       "  <tbody>\n",
       "    <tr>\n",
       "      <th>0</th>\n",
       "      <td>1</td>\n",
       "      <td>1.000000</td>\n",
       "      <td>0.622642</td>\n",
       "      <td>0.282443</td>\n",
       "      <td>0.241935</td>\n",
       "      <td>1.000000</td>\n",
       "      <td>0.0</td>\n",
       "      <td>1</td>\n",
       "    </tr>\n",
       "    <tr>\n",
       "      <th>1</th>\n",
       "      <td>1</td>\n",
       "      <td>1.000000</td>\n",
       "      <td>0.245283</td>\n",
       "      <td>0.442748</td>\n",
       "      <td>0.419355</td>\n",
       "      <td>0.666667</td>\n",
       "      <td>1.0</td>\n",
       "      <td>1</td>\n",
       "    </tr>\n",
       "    <tr>\n",
       "      <th>2</th>\n",
       "      <td>1</td>\n",
       "      <td>0.666667</td>\n",
       "      <td>0.339623</td>\n",
       "      <td>0.885496</td>\n",
       "      <td>0.564516</td>\n",
       "      <td>0.000000</td>\n",
       "      <td>0.0</td>\n",
       "      <td>0</td>\n",
       "    </tr>\n",
       "    <tr>\n",
       "      <th>3</th>\n",
       "      <td>0</td>\n",
       "      <td>0.333333</td>\n",
       "      <td>0.339623</td>\n",
       "      <td>0.770992</td>\n",
       "      <td>0.225806</td>\n",
       "      <td>0.000000</td>\n",
       "      <td>0.0</td>\n",
       "      <td>0</td>\n",
       "    </tr>\n",
       "    <tr>\n",
       "      <th>4</th>\n",
       "      <td>1</td>\n",
       "      <td>0.333333</td>\n",
       "      <td>0.245283</td>\n",
       "      <td>0.816794</td>\n",
       "      <td>0.129032</td>\n",
       "      <td>0.000000</td>\n",
       "      <td>0.0</td>\n",
       "      <td>0</td>\n",
       "    </tr>\n",
       "  </tbody>\n",
       "</table>\n",
       "</div>"
      ],
      "text/plain": [
       "   gender        cp  trestbps   thalach   oldpeak        ca  thal  target\n",
       "0       1  1.000000  0.622642  0.282443  0.241935  1.000000   0.0       1\n",
       "1       1  1.000000  0.245283  0.442748  0.419355  0.666667   1.0       1\n",
       "2       1  0.666667  0.339623  0.885496  0.564516  0.000000   0.0       0\n",
       "3       0  0.333333  0.339623  0.770992  0.225806  0.000000   0.0       0\n",
       "4       1  0.333333  0.245283  0.816794  0.129032  0.000000   0.0       0"
      ]
     },
     "execution_count": 160,
     "metadata": {},
     "output_type": "execute_result"
    }
   ],
   "source": [
    "df_ridge = df_minmax.copy()\n",
    "df_ridge = df_ridge[df_select_ridge]\n",
    "df_ridge.head()"
   ]
  },
  {
   "cell_type": "markdown",
   "id": "045c8a58",
   "metadata": {},
   "source": [
    "## Check the output of the algorithms for df_ridge (output of ridge) :"
   ]
  },
  {
   "cell_type": "code",
   "execution_count": 161,
   "id": "1c711c9d",
   "metadata": {},
   "outputs": [
    {
     "data": {
      "text/html": [
       "<div>\n",
       "<style scoped>\n",
       "    .dataframe tbody tr th:only-of-type {\n",
       "        vertical-align: middle;\n",
       "    }\n",
       "\n",
       "    .dataframe tbody tr th {\n",
       "        vertical-align: top;\n",
       "    }\n",
       "\n",
       "    .dataframe thead th {\n",
       "        text-align: right;\n",
       "    }\n",
       "</style>\n",
       "<table border=\"1\" class=\"dataframe\">\n",
       "  <thead>\n",
       "    <tr style=\"text-align: right;\">\n",
       "      <th></th>\n",
       "      <th>accuracy</th>\n",
       "      <th>recall</th>\n",
       "      <th>specificity</th>\n",
       "      <th>precision</th>\n",
       "      <th>F1</th>\n",
       "    </tr>\n",
       "  </thead>\n",
       "  <tbody>\n",
       "    <tr>\n",
       "      <th>SVM</th>\n",
       "      <td>0.794731</td>\n",
       "      <td>0.739170</td>\n",
       "      <td>0.851596</td>\n",
       "      <td>0.816324</td>\n",
       "      <td>0.762731</td>\n",
       "    </tr>\n",
       "    <tr>\n",
       "      <th>Logistic Regression</th>\n",
       "      <td>0.827849</td>\n",
       "      <td>0.786741</td>\n",
       "      <td>0.868332</td>\n",
       "      <td>0.847696</td>\n",
       "      <td>0.806728</td>\n",
       "    </tr>\n",
       "    <tr>\n",
       "      <th>NB</th>\n",
       "      <td>0.794946</td>\n",
       "      <td>0.762881</td>\n",
       "      <td>0.836694</td>\n",
       "      <td>0.805452</td>\n",
       "      <td>0.772740</td>\n",
       "    </tr>\n",
       "    <tr>\n",
       "      <th>KNN</th>\n",
       "      <td>0.824624</td>\n",
       "      <td>0.780342</td>\n",
       "      <td>0.870846</td>\n",
       "      <td>0.843725</td>\n",
       "      <td>0.802856</td>\n",
       "    </tr>\n",
       "    <tr>\n",
       "      <th>Dtree</th>\n",
       "      <td>0.728280</td>\n",
       "      <td>0.719610</td>\n",
       "      <td>0.741254</td>\n",
       "      <td>0.708939</td>\n",
       "      <td>0.704377</td>\n",
       "    </tr>\n",
       "    <tr>\n",
       "      <th>Random Forest</th>\n",
       "      <td>0.794516</td>\n",
       "      <td>0.763817</td>\n",
       "      <td>0.829959</td>\n",
       "      <td>0.791736</td>\n",
       "      <td>0.770572</td>\n",
       "    </tr>\n",
       "    <tr>\n",
       "      <th>Multi-layer-Perceptron</th>\n",
       "      <td>0.741398</td>\n",
       "      <td>0.744080</td>\n",
       "      <td>0.749202</td>\n",
       "      <td>0.730293</td>\n",
       "      <td>0.721004</td>\n",
       "    </tr>\n",
       "    <tr>\n",
       "      <th>XGBoost</th>\n",
       "      <td>0.778065</td>\n",
       "      <td>0.755983</td>\n",
       "      <td>0.802638</td>\n",
       "      <td>0.773417</td>\n",
       "      <td>0.753723</td>\n",
       "    </tr>\n",
       "    <tr>\n",
       "      <th>Stochastic-Gradient-Descent</th>\n",
       "      <td>0.775269</td>\n",
       "      <td>0.636334</td>\n",
       "      <td>0.908693</td>\n",
       "      <td>0.897990</td>\n",
       "      <td>0.694709</td>\n",
       "    </tr>\n",
       "    <tr>\n",
       "      <th>AdaBoost</th>\n",
       "      <td>0.794731</td>\n",
       "      <td>0.755214</td>\n",
       "      <td>0.833784</td>\n",
       "      <td>0.795001</td>\n",
       "      <td>0.767486</td>\n",
       "    </tr>\n",
       "    <tr>\n",
       "      <th>LightGBM</th>\n",
       "      <td>0.784731</td>\n",
       "      <td>0.743028</td>\n",
       "      <td>0.830544</td>\n",
       "      <td>0.792013</td>\n",
       "      <td>0.755498</td>\n",
       "    </tr>\n",
       "    <tr>\n",
       "      <th>catBoost</th>\n",
       "      <td>0.817634</td>\n",
       "      <td>0.768439</td>\n",
       "      <td>0.864764</td>\n",
       "      <td>0.834998</td>\n",
       "      <td>0.791059</td>\n",
       "    </tr>\n",
       "  </tbody>\n",
       "</table>\n",
       "</div>"
      ],
      "text/plain": [
       "                             accuracy    recall  specificity  precision  \\\n",
       "SVM                          0.794731  0.739170     0.851596   0.816324   \n",
       "Logistic Regression          0.827849  0.786741     0.868332   0.847696   \n",
       "NB                           0.794946  0.762881     0.836694   0.805452   \n",
       "KNN                          0.824624  0.780342     0.870846   0.843725   \n",
       "Dtree                        0.728280  0.719610     0.741254   0.708939   \n",
       "Random Forest                0.794516  0.763817     0.829959   0.791736   \n",
       "Multi-layer-Perceptron       0.741398  0.744080     0.749202   0.730293   \n",
       "XGBoost                      0.778065  0.755983     0.802638   0.773417   \n",
       "Stochastic-Gradient-Descent  0.775269  0.636334     0.908693   0.897990   \n",
       "AdaBoost                     0.794731  0.755214     0.833784   0.795001   \n",
       "LightGBM                     0.784731  0.743028     0.830544   0.792013   \n",
       "catBoost                     0.817634  0.768439     0.864764   0.834998   \n",
       "\n",
       "                                   F1  \n",
       "SVM                          0.762731  \n",
       "Logistic Regression          0.806728  \n",
       "NB                           0.772740  \n",
       "KNN                          0.802856  \n",
       "Dtree                        0.704377  \n",
       "Random Forest                0.770572  \n",
       "Multi-layer-Perceptron       0.721004  \n",
       "XGBoost                      0.753723  \n",
       "Stochastic-Gradient-Descent  0.694709  \n",
       "AdaBoost                     0.767486  \n",
       "LightGBM                     0.755498  \n",
       "catBoost                     0.791059  "
      ]
     },
     "execution_count": 161,
     "metadata": {},
     "output_type": "execute_result"
    }
   ],
   "source": [
    "algo={\n",
    "    'NB':MultinomialNB(alpha=1.0),\n",
    "    'Logistic Regression':LogisticRegression(),\n",
    "    'SVM':svm.SVC(kernel='poly',random_state=1),\n",
    "    'KNN':KNeighborsClassifier(n_neighbors=11),\n",
    "    'Dtree':DecisionTreeClassifier(),\n",
    "    'Random Forest':RandomForestClassifier(random_state=1),\n",
    "    'Multi-layer-Perceptron':MLPClassifier(solver='lbfgs', alpha=1e-5,random_state=3),\n",
    "    'XGBoost':xgb.XGBClassifier(objective=\"binary:logistic\", random_state=3),\n",
    "    'Stochastic-Gradient-Descent':SGDClassifier(loss=\"hinge\", penalty=\"l2\", max_iter=8),\n",
    "    'AdaBoost':AdaBoostClassifier(n_estimators=100, random_state=3),\n",
    "    'LightGBM ':LGBMClassifier(),\n",
    "    'catBoost':CatBoostClassifier(verbose=0, n_estimators=100),\n",
    "}\n",
    "\n",
    "\n",
    "df2_rd = df_ridge.drop(['target'], axis = 1)\n",
    "df_rd_col =df2_rd.columns\n",
    "result_beforeNorm=k_fold_results(df2_rd[df_rd_col],df['target'],algo=algo)\n",
    "result_beforeNorm.T"
   ]
  },
  {
   "cell_type": "code",
   "execution_count": 162,
   "id": "9c4511b0",
   "metadata": {},
   "outputs": [],
   "source": [
    "res_ridge=result_beforeNorm.T\n",
    "scores_ridge = res_ridge['accuracy'].values"
   ]
  },
  {
   "cell_type": "code",
   "execution_count": 163,
   "id": "624f5d02",
   "metadata": {},
   "outputs": [
    {
     "data": {
      "text/plain": [
       "<AxesSubplot:xlabel='Algorithms', ylabel='Accuracy score'>"
      ]
     },
     "execution_count": 163,
     "metadata": {},
     "output_type": "execute_result"
    },
    {
     "data": {
      "image/png": "[encoded data removed]",
      "text/plain": [
       "<Figure size 1080x576 with 1 Axes>"
      ]
     },
     "metadata": {},
     "output_type": "display_data"
    }
   ],
   "source": [
    "sns.set(rc={'figure.figsize':(15,8)})\n",
    "plt.xlabel(\"Algorithms\")\n",
    "plt.ylabel(\"Accuracy score\")\n",
    "sns.barplot(MLA,scores_ridge)"
   ]
  },
  {
   "cell_type": "markdown",
   "id": "09a9e597",
   "metadata": {},
   "source": [
    "از توجه شما سپاس گزارم\n",
    "\n"
   ]
  },
  {
   "cell_type": "markdown",
   "id": "e96201a4",
   "metadata": {},
   "source": [
    "با تشکر. امیررضا زارع"
   ]
  }
 ],
 "metadata": {
  "kernelspec": {
   "display_name": "Python 3",
   "language": "python",
   "name": "python3"
  },
  "language_info": {
   "codemirror_mode": {
    "name": "ipython",
    "version": 3
   },
   "file_extension": ".py",
   "mimetype": "text/x-python",
   "name": "python",
   "nbconvert_exporter": "python",
   "pygments_lexer": "ipython3",
   "version": "3.8.8"
  }
 },
 "nbformat": 4,
 "nbformat_minor": 5
}
